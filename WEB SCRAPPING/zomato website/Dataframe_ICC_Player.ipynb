{
 "cells": [
  {
   "cell_type": "code",
   "execution_count": 9,
   "id": "59c612e3",
   "metadata": {},
   "outputs": [],
   "source": [
    "import pandas as pd"
   ]
  },
  {
   "cell_type": "code",
   "execution_count": 10,
   "id": "f78b096f",
   "metadata": {},
   "outputs": [],
   "source": [
    "pd.pandas.set_option('display.max_columns' , None)"
   ]
  },
  {
   "cell_type": "code",
   "execution_count": 11,
   "id": "c3350f0c",
   "metadata": {},
   "outputs": [],
   "source": [
    "icc = pd.read_json('output.json')"
   ]
  },
  {
   "cell_type": "code",
   "execution_count": 12,
   "id": "9f6dc48f",
   "metadata": {},
   "outputs": [
    {
     "data": {
      "text/html": [
       "<div>\n",
       "<style scoped>\n",
       "    .dataframe tbody tr th:only-of-type {\n",
       "        vertical-align: middle;\n",
       "    }\n",
       "\n",
       "    .dataframe tbody tr th {\n",
       "        vertical-align: top;\n",
       "    }\n",
       "\n",
       "    .dataframe thead th {\n",
       "        text-align: right;\n",
       "    }\n",
       "</style>\n",
       "<table border=\"1\" class=\"dataframe\">\n",
       "  <thead>\n",
       "    <tr style=\"text-align: right;\">\n",
       "      <th></th>\n",
       "      <th>position</th>\n",
       "      <th>name_</th>\n",
       "      <th>country</th>\n",
       "      <th>rating_</th>\n",
       "    </tr>\n",
       "  </thead>\n",
       "  <tbody>\n",
       "    <tr>\n",
       "      <th>0</th>\n",
       "      <td>1</td>\n",
       "      <td>Joe Root</td>\n",
       "      <td>ENGLAND</td>\n",
       "      <td>923</td>\n",
       "    </tr>\n",
       "    <tr>\n",
       "      <th>1</th>\n",
       "      <td>2</td>\n",
       "      <td>Marnus Labuschagne</td>\n",
       "      <td>AUSTRALIA</td>\n",
       "      <td>885</td>\n",
       "    </tr>\n",
       "    <tr>\n",
       "      <th>2</th>\n",
       "      <td>3</td>\n",
       "      <td>Babar Azam</td>\n",
       "      <td>PAKISTAN</td>\n",
       "      <td>874</td>\n",
       "    </tr>\n",
       "    <tr>\n",
       "      <th>3</th>\n",
       "      <td>4</td>\n",
       "      <td>Steven Smith</td>\n",
       "      <td>AUSTRALIA</td>\n",
       "      <td>848</td>\n",
       "    </tr>\n",
       "    <tr>\n",
       "      <th>4</th>\n",
       "      <td>5</td>\n",
       "      <td>Rishabh Pant</td>\n",
       "      <td>INDIA</td>\n",
       "      <td>801</td>\n",
       "    </tr>\n",
       "    <tr>\n",
       "      <th>...</th>\n",
       "      <td>...</td>\n",
       "      <td>...</td>\n",
       "      <td>...</td>\n",
       "      <td>...</td>\n",
       "    </tr>\n",
       "    <tr>\n",
       "      <th>287</th>\n",
       "      <td>96</td>\n",
       "      <td>Shimron Hetmyer</td>\n",
       "      <td>WEST INDIES</td>\n",
       "      <td>374</td>\n",
       "    </tr>\n",
       "    <tr>\n",
       "      <th>288</th>\n",
       "      <td>97</td>\n",
       "      <td>Kusal Mendis</td>\n",
       "      <td>SRI LANKA</td>\n",
       "      <td>372</td>\n",
       "    </tr>\n",
       "    <tr>\n",
       "      <th>289</th>\n",
       "      <td>98</td>\n",
       "      <td>Norman Vanua</td>\n",
       "      <td>PAPUA NEW GUINEA</td>\n",
       "      <td>371</td>\n",
       "    </tr>\n",
       "    <tr>\n",
       "      <th>290</th>\n",
       "      <td>99</td>\n",
       "      <td>Kyle Mayers</td>\n",
       "      <td>WEST INDIES</td>\n",
       "      <td>369</td>\n",
       "    </tr>\n",
       "    <tr>\n",
       "      <th>291</th>\n",
       "      <td>100</td>\n",
       "      <td>Faisal Khan</td>\n",
       "      <td>SAUDI ARABIA</td>\n",
       "      <td>367</td>\n",
       "    </tr>\n",
       "  </tbody>\n",
       "</table>\n",
       "<p>292 rows × 4 columns</p>\n",
       "</div>"
      ],
      "text/plain": [
       "     position               name_           country  rating_\n",
       "0           1            Joe Root           ENGLAND      923\n",
       "1           2  Marnus Labuschagne         AUSTRALIA      885\n",
       "2           3          Babar Azam          PAKISTAN      874\n",
       "3           4        Steven Smith         AUSTRALIA      848\n",
       "4           5        Rishabh Pant             INDIA      801\n",
       "..        ...                 ...               ...      ...\n",
       "287        96     Shimron Hetmyer       WEST INDIES      374\n",
       "288        97        Kusal Mendis         SRI LANKA      372\n",
       "289        98        Norman Vanua  PAPUA NEW GUINEA      371\n",
       "290        99         Kyle Mayers       WEST INDIES      369\n",
       "291       100         Faisal Khan      SAUDI ARABIA      367\n",
       "\n",
       "[292 rows x 4 columns]"
      ]
     },
     "execution_count": 12,
     "metadata": {},
     "output_type": "execute_result"
    }
   ],
   "source": [
    "icc"
   ]
  },
  {
   "cell_type": "code",
   "execution_count": 64,
   "id": "5b112ac4",
   "metadata": {},
   "outputs": [
    {
     "name": "stdout",
     "output_type": "stream",
     "text": [
      "enterabDuLaL\n",
      "your name is\t ABDULAL\n"
     ]
    }
   ],
   "source": [
    "any1 = input('enter')\n",
    "upper = any1.upper()\n",
    "print(\"your name is\\t\" , upper)"
   ]
  },
  {
   "cell_type": "code",
   "execution_count": null,
   "id": "fc9ca2f1",
   "metadata": {},
   "outputs": [],
   "source": [
    "country = input('enter your country name it will show the number of players in your country')\n",
    "uppercase_country = country.upper()\n",
    "a = 0\n",
    "empty_list = []\n",
    "for i , row in icc.iterrows():\n",
    "    main_column = icc['country'].loc[a]\n",
    "    if uppercase_country == main_column:\n",
    "        empty_list.append(uppercase_country)\n",
    "        no_of_players = len(empty_list)\n",
    "    a = a + 1\n",
    "print('There are ',no_of_players,'players on the scoreboard of ICC from ',uppercase_country)\n",
    "    \n",
    "        \n",
    "        \n",
    "        \n",
    "    \n",
    "    \n",
    "    "
   ]
  },
  {
   "cell_type": "code",
   "execution_count": null,
   "id": "fd270792",
   "metadata": {},
   "outputs": [],
   "source": [
    "icc['country'].unique()"
   ]
  },
  {
   "cell_type": "code",
   "execution_count": 92,
   "id": "53cb54fd",
   "metadata": {},
   "outputs": [
    {
     "name": "stdout",
     "output_type": "stream",
     "text": [
      "[]\n"
     ]
    }
   ],
   "source": [
    "print(empty_list)"
   ]
  },
  {
   "cell_type": "code",
   "execution_count": 29,
   "id": "4a2f7b0c",
   "metadata": {},
   "outputs": [
    {
     "data": {
      "text/plain": [
       "0    ENGLAND\n",
       "Name: country, dtype: object"
      ]
     },
     "execution_count": 29,
     "metadata": {},
     "output_type": "execute_result"
    }
   ],
   "source": [
    "icc['country'].loc[:0]"
   ]
  },
  {
   "cell_type": "code",
   "execution_count": 68,
   "id": "a77f0663",
   "metadata": {},
   "outputs": [
    {
     "data": {
      "text/plain": [
       "'NEW ZEALAND'"
      ]
     },
     "execution_count": 68,
     "metadata": {},
     "output_type": "execute_result"
    }
   ],
   "source": [
    "icc['country'].loc[5]"
   ]
  },
  {
   "cell_type": "code",
   "execution_count": null,
   "id": "69f1defe",
   "metadata": {},
   "outputs": [],
   "source": []
  }
 ],
 "metadata": {
  "kernelspec": {
   "display_name": "Python 3 (ipykernel)",
   "language": "python",
   "name": "python3"
  },
  "language_info": {
   "codemirror_mode": {
    "name": "ipython",
    "version": 3
   },
   "file_extension": ".py",
   "mimetype": "text/x-python",
   "name": "python",
   "nbconvert_exporter": "python",
   "pygments_lexer": "ipython3",
   "version": "3.9.12"
  }
 },
 "nbformat": 4,
 "nbformat_minor": 5
}
