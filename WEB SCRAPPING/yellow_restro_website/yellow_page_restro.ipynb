{
 "cells": [
  {
   "cell_type": "code",
   "execution_count": 22,
   "id": "8912a665",
   "metadata": {},
   "outputs": [],
   "source": [
    "import requests"
   ]
  },
  {
   "cell_type": "code",
   "execution_count": 23,
   "id": "82c30ae1",
   "metadata": {},
   "outputs": [],
   "source": [
    "from bs4 import BeautifulSoup"
   ]
  },
  {
   "cell_type": "code",
   "execution_count": 66,
   "id": "2c2565a0",
   "metadata": {},
   "outputs": [],
   "source": [
    "from csv import writer"
   ]
  },
  {
   "cell_type": "code",
   "execution_count": 24,
   "id": "b27ca2a7",
   "metadata": {},
   "outputs": [],
   "source": [
    "url = \"https://www.yellowpages.com/glendale-ca/restaurants\""
   ]
  },
  {
   "cell_type": "code",
   "execution_count": 25,
   "id": "ca86ee3f",
   "metadata": {},
   "outputs": [],
   "source": [
    "response_url = requests.get(url)"
   ]
  },
  {
   "cell_type": "code",
   "execution_count": 26,
   "id": "4b0b6ca9",
   "metadata": {},
   "outputs": [],
   "source": [
    "htmlcontent_url = response_url.content"
   ]
  },
  {
   "cell_type": "code",
   "execution_count": 27,
   "id": "b7b48a63",
   "metadata": {},
   "outputs": [],
   "source": [
    "soup = BeautifulSoup(htmlcontent_url,\"html.parser\")"
   ]
  },
  {
   "cell_type": "code",
   "execution_count": 50,
   "id": "18f5d85e",
   "metadata": {},
   "outputs": [],
   "source": [
    "lists = soup.find_all('div', {'class': 'srp-listing clickable-area mdm'})"
   ]
  },
  {
   "cell_type": "code",
   "execution_count": 52,
   "id": "a25334b2",
   "metadata": {},
   "outputs": [],
   "source": [
    "# print(lists)"
   ]
  },
  {
   "cell_type": "code",
   "execution_count": 76,
   "id": "227a1ae1",
   "metadata": {},
   "outputs": [],
   "source": [
    "with open('restaurant.csv','w',encoding ='utf8' , newline = '') as f :\n",
    "    thewriter = writer(f)\n",
    "    header = ['Name' , 'Categories', 'Badges' , 'Viwed']   \n",
    "    thewriter.writerow(header)\n",
    "    # the above is for to conver the data into csv file\n",
    "    for list in lists:\n",
    "        name = list.find('a',{'class' : 'business-name'}).text\n",
    "        categories = list.find('div', {'class' : 'categories'}).text\n",
    "        badges = list.find('div',{'class':'badges'}).text\n",
    "        viwed = soup.find('span',{'class':'ta-count'})\n",
    "        info = [name,categories,badges,viwed]\n",
    "        thewriter.writerow(info)\n"
   ]
  },
  {
   "cell_type": "code",
   "execution_count": 75,
   "id": "5160f559",
   "metadata": {},
   "outputs": [],
   "source": [
    "# import json\n",
    "# with open(\"yellow_page_restro.json\",\"w\") as f :     #json ek package(class)   dumps is function\n",
    "#     json.dump(info,f)"
   ]
  },
  {
   "cell_type": "code",
   "execution_count": 63,
   "id": "f2048805",
   "metadata": {},
   "outputs": [
    {
     "data": {
      "text/plain": [
       "'Amenities:Offers outdoor seatingWheelchair accessibleGood for groupsGood for families'"
      ]
     },
     "execution_count": 63,
     "metadata": {},
     "output_type": "execute_result"
    }
   ],
   "source": [
    "# name = soup.find('a',{'class' : 'business-name'})\n",
    "# name.text\n",
    "# categories = soup.find('div', {'class' : 'categories'})\n",
    "# categories.text\n",
    "# count= soup.find('span',{'class':'count'})\n",
    "# count.text\n",
    "# viwed = soup.find('span',{'class':'ta-count'})\n",
    "# viwed.text\n",
    "# badges = soup.find('div',{'class':'badges'})\n",
    "# badges.text\n",
    "# amenities = soup.find('div',{'class':'amenities'})\n",
    "# amenities.text"
   ]
  }
 ],
 "metadata": {
  "kernelspec": {
   "display_name": "Python 3 (ipykernel)",
   "language": "python",
   "name": "python3"
  },
  "language_info": {
   "codemirror_mode": {
    "name": "ipython",
    "version": 3
   },
   "file_extension": ".py",
   "mimetype": "text/x-python",
   "name": "python",
   "nbconvert_exporter": "python",
   "pygments_lexer": "ipython3",
   "version": "3.9.12"
  }
 },
 "nbformat": 4,
 "nbformat_minor": 5
}
