{
 "cells": [
  {
   "cell_type": "code",
   "execution_count": 1,
   "id": "929813b4",
   "metadata": {},
   "outputs": [],
   "source": [
    "import pandas as pd"
   ]
  },
  {
   "cell_type": "code",
   "execution_count": 2,
   "id": "8a1778c3",
   "metadata": {},
   "outputs": [],
   "source": [
    "import numpy as np"
   ]
  },
  {
   "cell_type": "code",
   "execution_count": 3,
   "id": "a0954dce",
   "metadata": {},
   "outputs": [],
   "source": [
    "import re"
   ]
  },
  {
   "cell_type": "code",
   "execution_count": 4,
   "id": "1d992eb4",
   "metadata": {},
   "outputs": [],
   "source": [
    "pd.pandas.set_option('display.max_columns' , None)"
   ]
  },
  {
   "cell_type": "code",
   "execution_count": 12,
   "id": "04cbb9c0",
   "metadata": {},
   "outputs": [],
   "source": [
    "restro = pd.read_csv('restaurant.csv')"
   ]
  },
  {
   "cell_type": "code",
   "execution_count": 29,
   "id": "7f8513f9",
   "metadata": {},
   "outputs": [
    {
     "data": {
      "text/html": [
       "<div>\n",
       "<style scoped>\n",
       "    .dataframe tbody tr th:only-of-type {\n",
       "        vertical-align: middle;\n",
       "    }\n",
       "\n",
       "    .dataframe tbody tr th {\n",
       "        vertical-align: top;\n",
       "    }\n",
       "\n",
       "    .dataframe thead th {\n",
       "        text-align: right;\n",
       "    }\n",
       "</style>\n",
       "<table border=\"1\" class=\"dataframe\">\n",
       "  <thead>\n",
       "    <tr style=\"text-align: right;\">\n",
       "      <th></th>\n",
       "      <th>Name</th>\n",
       "      <th>Categories</th>\n",
       "      <th>Badges in Years</th>\n",
       "      <th>Viwed</th>\n",
       "    </tr>\n",
       "  </thead>\n",
       "  <tbody>\n",
       "    <tr>\n",
       "      <th>0</th>\n",
       "      <td>Porto's Bakery &amp; Cafe</td>\n",
       "      <td>RestaurantsCuban RestaurantsBreakfast, Brunch ...</td>\n",
       "      <td>62YEARSIN BUSINESS</td>\n",
       "      <td>0.0</td>\n",
       "    </tr>\n",
       "    <tr>\n",
       "      <th>1</th>\n",
       "      <td>Vegas Seafood Buffet</td>\n",
       "      <td>RestaurantsSeafood RestaurantsBuffet Restaurants</td>\n",
       "      <td>13YEARSIN BUSINESS</td>\n",
       "      <td>0.0</td>\n",
       "    </tr>\n",
       "    <tr>\n",
       "      <th>2</th>\n",
       "      <td>Raffi's Place</td>\n",
       "      <td>RestaurantsFamily Style RestaurantsMiddle East...</td>\n",
       "      <td>28YEARSIN BUSINESS</td>\n",
       "      <td>0.0</td>\n",
       "    </tr>\n",
       "    <tr>\n",
       "      <th>3</th>\n",
       "      <td>Conrad's Restaurant</td>\n",
       "      <td>RestaurantsAmerican RestaurantsRestaurant Menus</td>\n",
       "      <td>43YEARSIN BUSINESS</td>\n",
       "      <td>0.0</td>\n",
       "    </tr>\n",
       "    <tr>\n",
       "      <th>4</th>\n",
       "      <td>Islands</td>\n",
       "      <td>RestaurantsAmerican RestaurantsFamily Style Re...</td>\n",
       "      <td>40YEARSIN BUSINESS</td>\n",
       "      <td>0.0</td>\n",
       "    </tr>\n",
       "  </tbody>\n",
       "</table>\n",
       "</div>"
      ],
      "text/plain": [
       "                    Name                                         Categories  \\\n",
       "0  Porto's Bakery & Cafe  RestaurantsCuban RestaurantsBreakfast, Brunch ...   \n",
       "1   Vegas Seafood Buffet   RestaurantsSeafood RestaurantsBuffet Restaurants   \n",
       "2          Raffi's Place  RestaurantsFamily Style RestaurantsMiddle East...   \n",
       "3    Conrad's Restaurant    RestaurantsAmerican RestaurantsRestaurant Menus   \n",
       "4                Islands  RestaurantsAmerican RestaurantsFamily Style Re...   \n",
       "\n",
       "      Badges in Years  Viwed  \n",
       "0  62YEARSIN BUSINESS    0.0  \n",
       "1  13YEARSIN BUSINESS    0.0  \n",
       "2  28YEARSIN BUSINESS    0.0  \n",
       "3  43YEARSIN BUSINESS    0.0  \n",
       "4  40YEARSIN BUSINESS    0.0  "
      ]
     },
     "execution_count": 29,
     "metadata": {},
     "output_type": "execute_result"
    }
   ],
   "source": [
    "restro.head()"
   ]
  },
  {
   "cell_type": "markdown",
   "id": "5f5d3be7",
   "metadata": {},
   "source": [
    "# Nan Values"
   ]
  },
  {
   "cell_type": "code",
   "execution_count": 26,
   "id": "5ab590b0",
   "metadata": {},
   "outputs": [],
   "source": [
    "features_with_nan = [features for features in restro.columns if restro[features].isnull().sum()>1]\n",
    "restro['Badges'] = restro['Badges'].fillna(0)\n",
    "restro['Viwed'] = restro['Viwed'].fillna(0)"
   ]
  },
  {
   "cell_type": "code",
   "execution_count": 28,
   "id": "add9e161",
   "metadata": {},
   "outputs": [],
   "source": [
    "restro.rename(columns={'Badges' : 'Badges in Years'}, inplace = True)"
   ]
  }
 ],
 "metadata": {
  "kernelspec": {
   "display_name": "Python 3 (ipykernel)",
   "language": "python",
   "name": "python3"
  },
  "language_info": {
   "codemirror_mode": {
    "name": "ipython",
    "version": 3
   },
   "file_extension": ".py",
   "mimetype": "text/x-python",
   "name": "python",
   "nbconvert_exporter": "python",
   "pygments_lexer": "ipython3",
   "version": "3.9.12"
  }
 },
 "nbformat": 4,
 "nbformat_minor": 5
}
