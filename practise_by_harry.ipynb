{
 "cells": [
  {
   "cell_type": "markdown",
   "id": "de03b4be",
   "metadata": {},
   "source": [
    "# CHAPTER 01   : INTRODUCTION    (DAY 01)"
   ]
  },
  {
   "cell_type": "markdown",
   "id": "a877ef05",
   "metadata": {},
   "source": [
    "# life first code"
   ]
  },
  {
   "cell_type": "code",
   "execution_count": 60,
   "id": "039ba083",
   "metadata": {},
   "outputs": [
    {
     "name": "stdout",
     "output_type": "stream",
     "text": [
      "hello world\n"
     ]
    }
   ],
   "source": [
    "print(\"hello world\")"
   ]
  },
  {
   "cell_type": "markdown",
   "id": "10fb8700",
   "metadata": {},
   "source": [
    "# What is modeule : File which i already in pyython"
   ]
  },
  {
   "cell_type": "code",
   "execution_count": null,
   "id": "f766b01b",
   "metadata": {},
   "outputs": [],
   "source": [
    "import os "
   ]
  },
  {
   "cell_type": "markdown",
   "id": "8ba66ada",
   "metadata": {},
   "source": [
    "# what is pip : Download from internet"
   ]
  },
  {
   "cell_type": "code",
   "execution_count": null,
   "id": "9cd78829",
   "metadata": {},
   "outputs": [],
   "source": []
  },
  {
   "cell_type": "markdown",
   "id": "d69367a6",
   "metadata": {},
   "source": [
    "# comments"
   ]
  },
  {
   "cell_type": "code",
   "execution_count": null,
   "id": "0c2f27f5",
   "metadata": {},
   "outputs": [],
   "source": [
    "#My name "
   ]
  },
  {
   "cell_type": "code",
   "execution_count": null,
   "id": "4e5da8f7",
   "metadata": {
    "scrolled": false
   },
   "outputs": [],
   "source": [
    "'''hello\n",
    "bruh'''"
   ]
  },
  {
   "cell_type": "markdown",
   "id": "a542a1fc",
   "metadata": {},
   "source": [
    "# practice set 01"
   ]
  },
  {
   "cell_type": "code",
   "execution_count": null,
   "id": "6c57863b",
   "metadata": {},
   "outputs": [],
   "source": [
    "#1 Write a programe to print twinkle twinkle little star poem\n",
    "print(\"Twinkle, twinkle, little star, How I wonder what you are\")"
   ]
  },
  {
   "cell_type": "code",
   "execution_count": null,
   "id": "2fadee51",
   "metadata": {},
   "outputs": [],
   "source": [
    "#2 Use REPEL and print the table of 5 using it\n",
    " # go to command prombe"
   ]
  },
  {
   "cell_type": "markdown",
   "id": "12ed162e",
   "metadata": {},
   "source": [
    "# CHAPTER 02  : VARIABLES AND DATATYPE       (DAY 02)\n"
   ]
  },
  {
   "cell_type": "code",
   "execution_count": null,
   "id": "2f7458c0",
   "metadata": {},
   "outputs": [],
   "source": [
    "A = \"Abdullah\"           #string\n",
    "print(A)\n",
    "B = 354                  #int\n",
    "print(B)\n",
    "C = 45.32                #float\n",
    "print(C)\n",
    "D = True                 # Booleons\n",
    "print(D)\n",
    "E = None                 # None\n",
    "print(E)\n",
    "_F = \"people\"            # string\n",
    "print(_F)\n",
    "\n",
    "print(type(A))   #printing the type of variables\n",
    "print(type(B))   #printing the type of variables\n",
    "print(type(C))   #printing the type of variables\n",
    "print(type(D))   #printing the type of variables\n",
    "print(type(E))   #printing the type of variables\n",
    "print(type(_F))   #printing the type of variables"
   ]
  },
  {
   "cell_type": "code",
   "execution_count": null,
   "id": "1cacf737",
   "metadata": {},
   "outputs": [],
   "source": [
    "# 1. int      : 1,2,3,4,5,6,7...\n",
    "# 2. float    : 2.3 , 4.5 , 5.6 , 7.8 .....\n",
    "# 3. string   : \"harry\" , double or tripple\n",
    "# 4. booleons : True or False\n",
    "# 5. None     : typing None"
   ]
  },
  {
   "cell_type": "code",
   "execution_count": null,
   "id": "be7ced1b",
   "metadata": {},
   "outputs": [],
   "source": [
    "#Operators\n",
    "# 1.ARITHEMATICS OPERATORS\n",
    "print(\"the value of 3+4 is\",3+4)\n",
    "print(\"the value of 3+4 is\",3-4)\n",
    "print(\"the value of 3+4 is\",3*4)\n",
    "print(\"the value of 3+4 is\",3/4)\n",
    "\n",
    "# 2.ASSIGNMENT OPERATORS\n",
    "A = 36\n",
    "A += 2\n",
    "print(A)\n",
    "A -= 2\n",
    "print(A)\n",
    "A /= 5\n",
    "print(A)\n",
    "A *= 45\n",
    "print(A)\n",
    "\n",
    "# 3.CMPARISON OPERATORS\n",
    "B = (9>10)\n",
    "print(B)\n",
    "C = (9>5)\n",
    "print(C)\n",
    "\n",
    "# 4. LOGICAL OPERATORS \n",
    "BOOL1 = True\n",
    "BOOL2 = False\n",
    "print(\"the value of BOOL1 and BOOL2 is\",(BOOL1 and BOOL2))\n",
    "print(\"the value of BOOL1 and BOOL2 is\",(BOOL1 or BOOL2))\n",
    "print(\"the value of BOOL1 and BOOL2 is\",(not BOOL2))\n",
    "\n",
    "\n"
   ]
  },
  {
   "cell_type": "markdown",
   "id": "f2dd6f94",
   "metadata": {},
   "source": [
    "# TYPE CASTING      : one datatype to another  ( str to int , int to str etc... )"
   ]
  },
  {
   "cell_type": "code",
   "execution_count": null,
   "id": "ce34d724",
   "metadata": {},
   "outputs": [],
   "source": [
    "a = \"3534\"                    # string\n",
    "print(type(a))\n",
    "print( int(a) + 4444)         # use of type casting\n",
    "\n",
    "b = 5555                      #int\n",
    "print(type(b))\n",
    "print( str(5555) + \"_rahul\" ) # use of type casting"
   ]
  },
  {
   "cell_type": "markdown",
   "id": "db80253f",
   "metadata": {},
   "source": [
    "# input    (function)"
   ]
  },
  {
   "cell_type": "code",
   "execution_count": null,
   "id": "1bd26aa1",
   "metadata": {},
   "outputs": [],
   "source": [
    "a = input(\"Enter your name bruhhh..\")#Always store the value in    STR ONLY  !!!!!!\n",
    "# a = int(a)   # convert a to int if possible\n",
    "print(a)\n",
    "print(type(a))"
   ]
  },
  {
   "cell_type": "markdown",
   "id": "d1b580d4",
   "metadata": {},
   "source": [
    "# PRACTICE SET 02"
   ]
  },
  {
   "cell_type": "code",
   "execution_count": null,
   "id": "a3c64517",
   "metadata": {},
   "outputs": [],
   "source": [
    "# 01 : Write a python program to add two number\n",
    "\n",
    "# solution 01 :\n",
    "print(\"The addition of two number of 5+5\", 5+5)\n",
    "\n",
    "#Solution 02 :\n",
    "a = 34\n",
    "b = 36\n",
    "print(\"The addition of two number of\",a+b)\n"
   ]
  },
  {
   "cell_type": "code",
   "execution_count": null,
   "id": "efe9c314",
   "metadata": {},
   "outputs": [],
   "source": [
    "# 02 : To write a python program to find remainder when a number is divided by 2\n",
    "a = 36\n",
    "b = 6\n",
    "print( \"Remainer when a is divided by b\", a%b )\n",
    "print( \"Remainer when a is divided by b\", b%a )\n",
    "\n"
   ]
  },
  {
   "cell_type": "code",
   "execution_count": null,
   "id": "4d0bc7c2",
   "metadata": {},
   "outputs": [],
   "source": [
    "# 03 : Check the type of the variables using input function\n",
    "a = input(\"type any word which wil automatically converted into string only_\")\n",
    "print(a)\n",
    "print(type(a))"
   ]
  },
  {
   "cell_type": "code",
   "execution_count": null,
   "id": "7364d1d9",
   "metadata": {},
   "outputs": [],
   "source": [
    "# 04 : USE COMPARISON OPERATORS TO FIND OUT WHETHER A GIVEN VARIABLE \"A\" IS GREATER THAN \"B\" OR NOT\n",
    "a = 34\n",
    "b = 80\n",
    "print(a>b)"
   ]
  },
  {
   "cell_type": "code",
   "execution_count": null,
   "id": "db8f91f6",
   "metadata": {},
   "outputs": [],
   "source": [
    "# 05 : Write a python program to find average of two numbers entered by the users\n",
    "a = input(\"daal bhai pehla number\")\n",
    "a = int(a)\n",
    "b = input(\"daal bhai dusra number\")\n",
    "b = int(b)\n",
    "print(\"The average of the two numbers are\", (a + b)/2 )"
   ]
  },
  {
   "cell_type": "code",
   "execution_count": null,
   "id": "9c35e6b6",
   "metadata": {},
   "outputs": [],
   "source": [
    "# 06 : Write a python program to calculate the square of a numbe entered by the users\n",
    "\n",
    "squ = input(\"daal bhai number agar square chahye to_\")\n",
    "print(\"yeh lo bhai aapka number square ho gaya hai_\" , int(squ) * int(squ) )\n"
   ]
  },
  {
   "cell_type": "markdown",
   "id": "87aa2964",
   "metadata": {},
   "source": [
    "# CHAPTER 03  : STRINGE     (DAY 01)"
   ]
  },
  {
   "cell_type": "code",
   "execution_count": null,
   "id": "10c54688",
   "metadata": {},
   "outputs": [],
   "source": [
    "b = \"harry\"\n",
    "c = \"\"\"Harry\"\"\"\n",
    "d = 'h@arry'\n",
    "print(b,c,d)\n",
    "e = 'Harry\"s'\n",
    "print(e)\n"
   ]
  },
  {
   "cell_type": "markdown",
   "id": "8d906f46",
   "metadata": {},
   "source": [
    "# Concating str"
   ]
  },
  {
   "cell_type": "code",
   "execution_count": null,
   "id": "896c97fd",
   "metadata": {},
   "outputs": [],
   "source": [
    "name = \" Abdullah \"\n",
    "greeting = \" good morning \"\n",
    "print( type ( name ) )\n",
    "\n",
    "merge = name + greeting\n",
    "\n",
    "print( merge ) \n",
    "print( name + greeting )\n"
   ]
  },
  {
   "cell_type": "markdown",
   "id": "0e5b83df",
   "metadata": {},
   "source": [
    "# slicing of str "
   ]
  },
  {
   "cell_type": "code",
   "execution_count": null,
   "id": "becd0f0b",
   "metadata": {},
   "outputs": [],
   "source": [
    "name = \"Abdullah is a good boiiii\"\n",
    "print(name[0])\n",
    "print(name[1])\n",
    "print(name[2])\n",
    "print(name[3])\n",
    "                                      #name[3] = \"d\"  not alllowerd !!!!!\n",
    "print(name[0:3])\n",
    "print(name[1:4])\n",
    "print(name[:4])\n",
    "print(name[0:])\n",
    "print(name[:])\n",
    "\n",
    "\n",
    "sl = name\n",
    "print(sl[0:5])\n",
    "print(sl[0:4])\n",
    "\n",
    "#negative index\n",
    "print(name[-4 :-1 ])  #is same as [ 21 : 24]\n",
    "print(name[21 : 24])\n",
    "\n"
   ]
  },
  {
   "cell_type": "markdown",
   "id": "d333edfb",
   "metadata": {},
   "source": [
    "# SLICING WITH SKIP VALUE"
   ]
  },
  {
   "cell_type": "code",
   "execution_count": null,
   "id": "37fffcbf",
   "metadata": {},
   "outputs": [],
   "source": [
    "name = \"abdullah\"\n",
    "print(name[1:8:2])\n",
    "print(name[::3])"
   ]
  },
  {
   "cell_type": "markdown",
   "id": "1b78e737",
   "metadata": {},
   "source": [
    "# str functions"
   ]
  },
  {
   "cell_type": "code",
   "execution_count": 134,
   "id": "c8788438",
   "metadata": {},
   "outputs": [
    {
     "name": "stdout",
     "output_type": "stream",
     "text": [
      "33\n",
      "True\n",
      "3\n",
      "A civil engineer but not for pro \n",
      "abdullah\n",
      "2\n",
      "my name\n",
      "a mechanical engineer but not for pro \n",
      "a civil  but not for pro \n"
     ]
    }
   ],
   "source": [
    "story = \"a civil engineer but not for pro \"\n",
    "name = \"Abdullah\"\n",
    "name2 = \"    my name   \"\n",
    "#length of str\n",
    "print(len(story))\n",
    "\n",
    "#endswith\n",
    "print(story.endswith(\" pro \"))\n",
    "\n",
    "#count letter or word\n",
    "print(story.count(\"e\"))\n",
    "\n",
    "#capital first letter:\n",
    "print(story.capitalize())\n",
    "\n",
    "#small first letter:\n",
    "print(name.casefold())\n",
    "\n",
    "#find\n",
    "print(story.find(\"civil\"))\n",
    "\n",
    "#strip removal of extra space:\n",
    "print(name2.strip())\n",
    "\n",
    "#replace\n",
    "print(story.replace(\"civil\",\"mechanical\"))\n",
    "print(story.replace(\"engineer\",\"\"))\n"
   ]
  },
  {
   "cell_type": "markdown",
   "id": "56480b6d",
   "metadata": {},
   "source": [
    "# ESCAPE SEQUENCE"
   ]
  },
  {
   "cell_type": "code",
   "execution_count": null,
   "id": "5cc6605c",
   "metadata": {},
   "outputs": [],
   "source": [
    "place = \"Hydrebad \\n Gujarat \\t Rajasthan \\' pu\\\\ne  go\\a\"\n",
    "print(place)\n",
    "# \\n = new line\n",
    "# \\t = tab\n",
    "# \\' = single quote\n",
    "# \\\\ = backslash"
   ]
  },
  {
   "cell_type": "markdown",
   "id": "f0c52125",
   "metadata": {},
   "source": [
    "# PRACTISE SET 03"
   ]
  },
  {
   "cell_type": "code",
   "execution_count": null,
   "id": "57281ac3",
   "metadata": {},
   "outputs": [],
   "source": [
    "# 01 : WRITE A PYTHON PRAGRAM TO DISPLAYA USER ENTERNAL NAME FOLLOWED BY GOOD AFTERNOON USING INPUT() FUNCTION\n",
    "name = input(\"enter your name for a good afternoon_\")\n",
    "bruh = \"_aaaaa meriiii jaaaaannnn..... \"\n",
    "print(name + bruh)\n"
   ]
  },
  {
   "cell_type": "code",
   "execution_count": null,
   "id": "888dbacb",
   "metadata": {},
   "outputs": [],
   "source": [
    "# 02 : WRITE A PYTHON PROGRAM TO FILL IN A LETTER TEMPLATE GIVEN BELOW WITH NAMEAND DATE\n",
    "letter = \"\"\"Dear <|NAME|>,\n",
    "\n",
    "you are selected!!\n",
    "\n",
    "Date: <|DATE|>\"\"\"\n",
    "name = input(\"enter name\")\n",
    "date = input(\"enter date\")\n",
    "letter = letter.replace(\"<|NAME|>\" , name)\n",
    "letter = letter.replace(\"<|DATE|>\" , date)\n",
    "print(letter)\n",
    "\n",
    "\n"
   ]
  },
  {
   "cell_type": "code",
   "execution_count": null,
   "id": "bc292fb3",
   "metadata": {},
   "outputs": [],
   "source": [
    "# 03 : WRITE A PROGRAM TO DETECT DOUBLE SPACE IN A STRING\n",
    "st = \"This a string with double  spaces\"\n",
    "doublespaces = st.find(\"  \")\n",
    "print(doublespaces)\n",
    "\n",
    "\n"
   ]
  },
  {
   "cell_type": "code",
   "execution_count": 133,
   "id": "062c9280",
   "metadata": {},
   "outputs": [
    {
     "name": "stdout",
     "output_type": "stream",
     "text": [
      "This a string with double spaces\n"
     ]
    }
   ],
   "source": [
    "# 04 : REPLACE THE DOUBLE SPACE FROM PROBLEM 3 WITH SINGLE SPACES\n",
    "st = \"This a string with  double  spaces\"\n",
    "st = st.replace(\"  \" , \" \")\n",
    "print(st)"
   ]
  },
  {
   "cell_type": "code",
   "execution_count": null,
   "id": "549fcaa7",
   "metadata": {},
   "outputs": [],
   "source": [
    "# 05 : WRITE A PROGRAM TO FORMAT THE FOLLOWING LETTER USING ESCAPE SEQUENCE CHARACTERS\n",
    "letter = \"Dear Harry,This program course is nice.Thanks!\"\n",
    "print(letter)\n",
    "\n",
    "\n",
    "\n",
    "format_letter = \"Dear Harry,\\n\\tThis program course is nice.\\nThanks\"\n",
    "print(format_letter)\n",
    "    "
   ]
  },
  {
   "cell_type": "markdown",
   "id": "1926514e",
   "metadata": {},
   "source": [
    "# CHAPTER 04 : LIST AND TUPPLE        (DAY 02)\n"
   ]
  },
  {
   "cell_type": "code",
   "execution_count": null,
   "id": "bcac7968",
   "metadata": {},
   "outputs": [],
   "source": [
    "a = [1,2,3,4,5,6,7,8,9,0]\n",
    "print (  a[0]  ,  a[2]  ,  a[1]  ,  a[4]  )\n",
    "\n",
    "a[0] = 98\n",
    "print (  a[0]  ,  a[2]  ,  a[1]  ,  a[4]  )\n",
    "\n",
    "b = [45, \"harry\" , True , 0.46]\n",
    "print(b)\n",
    "\n"
   ]
  },
  {
   "cell_type": "markdown",
   "id": "bcfb9ae4",
   "metadata": {},
   "source": [
    "# LIST SLICING"
   ]
  },
  {
   "cell_type": "code",
   "execution_count": null,
   "id": "66b39e76",
   "metadata": {},
   "outputs": [],
   "source": [
    "friends = [\"harry\", \"tom\" , \"Rohan\" , \"sam\" ,  \"Divya\" , 45]\n",
    "print(friends[0:4])\n",
    "print(friends[0:2])\n",
    "print(friends[-4:])"
   ]
  },
  {
   "cell_type": "markdown",
   "id": "84f62ed0",
   "metadata": {},
   "source": [
    "# LIST METHODS"
   ]
  },
  {
   "cell_type": "code",
   "execution_count": null,
   "id": "97fe8f61",
   "metadata": {},
   "outputs": [],
   "source": [
    "l1 = [3,10,5,9,3,66,33,26]\n",
    "\n",
    "# Sorts the list\n",
    "l1.sort()\n",
    "print(l1)\n",
    "\n",
    "# Reverse the list\n",
    "l1.reverse()\n",
    "print(l1)\n",
    "\n",
    "# Append \\ add  the list at the end\n",
    "l1.append(45)\n",
    "print(l1)\n",
    "\n",
    "#Insert \\ replace \n",
    "l1.insert(0,545) \n",
    "print(l1)\n",
    "\n",
    "#pop from index  of list\n",
    "l1.pop(2)\n",
    "print(l1)\n",
    "\n",
    "#remove direct element from list\n",
    "l1.remove(545)\n",
    "print(l1)\n",
    "\n",
    "# length :\n",
    "print(len(l1))\n",
    "\n",
    "\n",
    "print(\"visit python docs!!!!!\")"
   ]
  },
  {
   "cell_type": "markdown",
   "id": "9386155a",
   "metadata": {},
   "source": [
    "# tuple"
   ]
  },
  {
   "cell_type": "code",
   "execution_count": null,
   "id": "3dbc8cbf",
   "metadata": {},
   "outputs": [],
   "source": [
    "a = (2,3,4,5,6,)   # cannot change immutable\n",
    "print(a)\n",
    "print(type(a))\n",
    "\n",
    "\n",
    "b = ()          # empty tuple\n",
    "print(b)\n",
    "\n",
    "c = (1,)       #add comma with single elemmments\n",
    "print(c)\n",
    "\n",
    "\n"
   ]
  },
  {
   "cell_type": "markdown",
   "id": "eccc8b1d",
   "metadata": {},
   "source": [
    "# TUPLE METHODS\n"
   ]
  },
  {
   "cell_type": "code",
   "execution_count": null,
   "id": "67062a3e",
   "metadata": {},
   "outputs": [],
   "source": [
    "a = (2,3,4,5,6,6,6,7,8,3,9,5,4,23,55,7,6)\n",
    "\n",
    "#count no of elements\n",
    "print(a.count(6))\n",
    "print(a.count(5))\n",
    "\n",
    "#search the elements in which index\n",
    "print(a.index(6))\n",
    "print(a.index(55))\n",
    "\n",
    "\n",
    "print(\"visit python.org\")\n",
    "\n"
   ]
  },
  {
   "cell_type": "markdown",
   "id": "007bfc38",
   "metadata": {},
   "source": [
    "# PRACTISE SET 04       (DAY 02)"
   ]
  },
  {
   "cell_type": "code",
   "execution_count": null,
   "id": "c37e34ac",
   "metadata": {},
   "outputs": [],
   "source": [
    "# 01 : WRITE A PROGRAM TO STORE SEVEN FRUITS IN A LIST ENTERED BY THE USERS\n",
    "name1 = input(\"enter your fruit name_\")\n",
    "name2 = input(\"enter your fruit name_\")\n",
    "name3 = input(\"enter your fruit name_\")\n",
    "name4 = input(\"enter your fruit name_\")\n",
    "name5 = input(\"enter your fruit name_\")\n",
    "name6 = input(\"enter your fruit name_\")\n",
    "name7 = input(\"enter your fruit name_\")\n",
    "store = []\n",
    "store.append(name1)\n",
    "store.append(name2)\n",
    "store.append(name3)\n",
    "store.append(name4)\n",
    "store.append(name5)\n",
    "store.append(name6)\n",
    "store.append(name7)\n",
    "print(store)"
   ]
  },
  {
   "cell_type": "code",
   "execution_count": null,
   "id": "10c6b214",
   "metadata": {},
   "outputs": [],
   "source": [
    "# 01 : WRITE A PROGRAM TO STORE SEVEN FRUITS IN A LIST ENTERED BY THE USERS\n",
    "name1 = input(\"enter your fruit name_\")\n",
    "name2 = input(\"enter your fruit name_\")\n",
    "name3 = input(\"enter your fruit name_\")\n",
    "name4 = input(\"enter your fruit name_\")\n",
    "name5 = input(\"enter your fruit name_\")\n",
    "name6 = input(\"enter your fruit name_\")\n",
    "name7 = input(\"enter your fruit name_\")\n",
    "updated_names = [name1,name2,name3,name4,name4,name5,name6,name7]\n",
    "print(updated_names)"
   ]
  },
  {
   "cell_type": "code",
   "execution_count": null,
   "id": "d2b7654a",
   "metadata": {},
   "outputs": [],
   "source": [
    "# 03 : WRITE A PROGRAM TO ACCEPT MARKS OF 6 STUDENTS AND DISPLAY THEM IN A SORTED MANNER\n",
    "marks1 = input(\"daaal bhai\")\n",
    "marks2 = input(\"daaal bhai\")\n",
    "marks3 = input(\"daaal bhai\")\n",
    "marks4 = input(\"daaal bhai\")\n",
    "marks5 = input(\"daaal bhai\")\n",
    "marks6 = input(\"daaal bhai\")\n",
    "marks_list6 = [marks1,marks2,marks3,marks4,marks5,marks6]\n",
    "marks_list6.sort()\n",
    "print(marks_list6)"
   ]
  },
  {
   "cell_type": "code",
   "execution_count": null,
   "id": "5fa84ea2",
   "metadata": {},
   "outputs": [],
   "source": [
    "#04 CHECK THAT A TUPLE CANNOT CHANGE IN PYTHON\n",
    "tupl = (66,77,88,99,33)\n",
    "tupl[0] = 77\n",
    "print(tupl)"
   ]
  },
  {
   "cell_type": "code",
   "execution_count": null,
   "id": "3365b3b6",
   "metadata": {},
   "outputs": [],
   "source": [
    "# 05 : WRIGHT A PROGRAM TO SUM A LIST WITH 4 NUMBERS\n",
    "sui = [33,44,78,92]\n",
    "print(sui[0]+sui[1]+sui[2]+sui[3])"
   ]
  },
  {
   "cell_type": "code",
   "execution_count": null,
   "id": "909817af",
   "metadata": {},
   "outputs": [],
   "source": [
    "# 06 : WRITE A PROGRAM TO COUNT THE NUMBER OF ZERO IN THE FOLLOWING TUPLE\n",
    "a = (7,0,8,9,98,93,56,7667,55,4637,563,0,878,95,0,87,0,98,0,765,0,546,0,54,0,0,0,0,555,45,143)\n",
    "print(a.count(0))"
   ]
  },
  {
   "cell_type": "markdown",
   "id": "5304cea0",
   "metadata": {},
   "source": [
    "# CHAPTER 05 : DICTIONARY AND SET   (DAY 03)"
   ]
  },
  {
   "cell_type": "code",
   "execution_count": null,
   "id": "3438516e",
   "metadata": {},
   "outputs": [],
   "source": [
    "mydict = {\"fast\":\"In a quick manner\" , \"harry\" : \"A coder\" , \"marks\" : [1,2,6,7,89] , \"anotherdict\" : {'Harry':'player'}}\n",
    "print(mydict['marks'])\n",
    "mydict['marks'] = [45,55]\n",
    "print(mydict['marks'])\n",
    "print(mydict['fast'])\n",
    "print(mydict['harry'])\n",
    "print(mydict['anotherdict']['Harry'])"
   ]
  },
  {
   "cell_type": "markdown",
   "id": "88d932b5",
   "metadata": {},
   "source": [
    "# METHODS OF DICTIONARIES"
   ]
  },
  {
   "cell_type": "code",
   "execution_count": 113,
   "id": "a886c441",
   "metadata": {},
   "outputs": [
    {
     "name": "stdout",
     "output_type": "stream",
     "text": [
      "dict_keys(['fast', 'harry', 'marks', 'anotherdict', 1])\n",
      "['fast', 'harry', 'marks', 'anotherdict', 1]\n",
      "dict_values(['In a quick manner', 'A coder', [1, 2, 6, 7, 89], {'Harry': 'player'}, 2])\n",
      "dict_items([('fast', 'In a quick manner'), ('harry', 'A coder'), ('marks', [1, 2, 6, 7, 89]), ('anotherdict', {'Harry': 'player'}), (1, 2)])\n",
      "{'fast': 'In a quick manner', 'harry': 'A coder', 'marks': [1, 2, 6, 7, 89], 'anotherdict': {'Harry': 'player'}, 1: 2}\n",
      "{'fast': 'In a quick manner', 'harry': 'dancer', 'marks': [1, 2, 6, 7, 89], 'anotherdict': {'Harry': 'player'}, 1: 2, 'lulu': 'friend', 'people': 'fake', 'huge': 'number'}\n",
      "dancer\n",
      "None\n",
      "dancer\n",
      "\t\t\t\t\tvisit\t python\t dictionaries\t methods\n"
     ]
    }
   ],
   "source": [
    "mydict = {\"fast\":\"In a quick manner\" , \"harry\" : \"A coder\" , \"marks\" : [1,2,6,7,89] , \"anotherdict\" : {'Harry':'player'} , 1 :2}\n",
    "\n",
    "# 1. print keys      and      convert dict to list  :\n",
    "print(mydict.keys())\n",
    "print(list(mydict.keys()))\n",
    "\n",
    "# 2. print value \n",
    "print(mydict.values())\n",
    "\n",
    "# 3. print items (key and value) :\n",
    "print(mydict.items())\n",
    "\n",
    "# 4. update\n",
    "\n",
    "print(mydict)\n",
    "\n",
    "update_dict = {\"lulu\" : \"friend\" , \"people\" : \"fake\" , \"huge\" : \"number\" , \"harry\" : \"dancer\"}\n",
    "mydict.update(update_dict)\n",
    "print(mydict)\n",
    "\n",
    "# 5. get\n",
    "print(mydict.get(\"harry\"))\n",
    "\n",
    "print(mydict.get(\"harry2\"))   # not throw error\n",
    "\n",
    "print(mydict[\"harry\"])\n",
    "\n",
    "\n",
    "print(\"\\t\\t\\t\\t\\tvisit\\t python\\t dictionaries\\t methods\")\n"
   ]
  },
  {
   "cell_type": "markdown",
   "id": "cb847416",
   "metadata": {},
   "source": [
    "# EMPTY DICTIONARY , SET , Tuple , List "
   ]
  },
  {
   "cell_type": "code",
   "execution_count": null,
   "id": "5e6a7bdd",
   "metadata": {},
   "outputs": [],
   "source": [
    "b = {}\n",
    "print(type(b))\n",
    "\n",
    "c = set()\n",
    "print(type(c))\n",
    "\n",
    "d = ()\n",
    "print(type(d))\n",
    "\n",
    "e = []\n",
    "print(type(e))\n"
   ]
  },
  {
   "cell_type": "markdown",
   "id": "bd3ec47c",
   "metadata": {},
   "source": [
    "# SET "
   ]
  },
  {
   "cell_type": "code",
   "execution_count": null,
   "id": "831aa603",
   "metadata": {},
   "outputs": [],
   "source": [
    "a = {2,5,8,3,2}     #ignore repeated elements\n",
    "print(a)\n",
    "print(type(a))\n",
    "\n",
    "\n",
    "\n",
    "print(\"set does not allow list, dictionary in set\",\"Hashable\")\n",
    "\n",
    "\n",
    "\n"
   ]
  },
  {
   "cell_type": "markdown",
   "id": "b76d31f6",
   "metadata": {},
   "source": [
    "# METHODS OF SETS"
   ]
  },
  {
   "cell_type": "code",
   "execution_count": null,
   "id": "d65a8fdd",
   "metadata": {},
   "outputs": [],
   "source": [
    "#1 ADD ELEMENTS :\n",
    "\n",
    "b = set()        #EMPTY SET   !!!!!\n",
    "\n",
    "b.add(3)\n",
    "b.add(4)\n",
    "b.add(5)\n",
    "b.add(5)\n",
    "b.add(5)\n",
    "b.add(5)\n",
    "b.add((3,4,5))\n",
    "print(b)\n",
    "\n",
    "#2 LENGTH of set :\n",
    "print(len(b))\n",
    "\n",
    "#3 REMOVE the elements:\n",
    "b.remove((3,4,5))\n",
    "b.remove(3)\n",
    "print(b)\n",
    "\n",
    "#4 pop of element :\n",
    "print(b.pop())\n",
    "\n",
    "#5 union :\n",
    "b.union({5,6})\n",
    "print(b)\n",
    "\n",
    "#6 interseption :\n",
    "b.intersection({4,5})\n",
    "print(b)"
   ]
  },
  {
   "cell_type": "markdown",
   "id": "11fdbf62",
   "metadata": {},
   "source": [
    "# PRACTISE SET 05 :"
   ]
  },
  {
   "cell_type": "code",
   "execution_count": null,
   "id": "3cc8beac",
   "metadata": {},
   "outputs": [],
   "source": [
    "#1 :WRITE A ROGRAM TO CREATE A DICTIONARY OF HINDI WORDS WITH VALUES AS THEIR ENGLISH TRANSACTION.PROVIDE USER WITH AN OPTION TO LOOK IT UP \n",
    "\n",
    "trans = { \"dekhna\" : \"look\" , \"aana\" : \"entry\" , \"murgi\" : \"hen\" , \"manushye\" : \"human\" }\n",
    "hin = input(\"type \\n dekhna \\n aana \\n murgi \\n manushye  \")\n",
    "print(trans[hin],\"\\nyour translated is done!!!\")\n",
    "\n"
   ]
  },
  {
   "cell_type": "code",
   "execution_count": null,
   "id": "53b2e7f1",
   "metadata": {},
   "outputs": [],
   "source": [
    "#2 WRITE A PROGRAM TO INPUT EIGHT NUMBERS FROM USERS AND DISPLAY ALLL THE UNIQUE NUMBERS :\n",
    "num1 = input()\n",
    "num2 = input()\n",
    "num3 = input()\n",
    "num4 = input()\n",
    "num5 = input()\n",
    "num6 = input()\n",
    "num7 = input()\n",
    "num8 = input()\n",
    "st = {num1,num2,num3,num4,num5,num6,num7,num8}\n",
    "print(st)"
   ]
  },
  {
   "cell_type": "code",
   "execution_count": null,
   "id": "0af4df22",
   "metadata": {},
   "outputs": [],
   "source": [
    "# 3 : CAN WE HAVE A SET WITH 18(INT) AND \"18\"(STR) AS A VALUE IN IT:\n",
    "st = {18,\"18\"}\n",
    "print(st)"
   ]
  },
  {
   "cell_type": "code",
   "execution_count": null,
   "id": "946c230b",
   "metadata": {},
   "outputs": [],
   "source": [
    "# 4 : WHAT WILL BE LENGTH OF FOLLOWING SET S :\n",
    "s = {20,20.0,\"20\"}\n",
    "print(len(s))\n"
   ]
  },
  {
   "cell_type": "code",
   "execution_count": null,
   "id": "fdaba856",
   "metadata": {},
   "outputs": [],
   "source": [
    "# 5 : s = {}    what is a type of s\n",
    "s = {}\n",
    "print(type(s))"
   ]
  },
  {
   "cell_type": "code",
   "execution_count": null,
   "id": "5d61543b",
   "metadata": {},
   "outputs": [],
   "source": [
    "# 6 : CREATE AN EMPTY DICTIONARY ALLOW 4 FRIENDS TO ENTER THEIR FAVOURATE LANGUAGE AS VALUED AND USE KEY AS THEIR NAMES . ASSMUE THAT THE NAMES ARE UNIQUE\n",
    "\n",
    "# METHOD 01 :\n",
    "dic = {}\n",
    "a = input(\"enter your fav language Shubham \\n \")\n",
    "b = input(\"enter your fav language Ankit \\n \")\n",
    "c = input(\"enter your fav language Sonali \\n \")\n",
    "d = input(\"enter your fav language Harshita \\n  \")\n",
    "dic[\"Shubham\"] = a\n",
    "dic[\"Ankit\"] = b\n",
    "dic[\"Sonali\"] = c\n",
    "dic[\"Harshit\"] = d\n",
    "print(dic)\n",
    "\n",
    "# METHOD 02 :\n",
    "fic = {}\n",
    "a = input(\"enter your fav girl taha \\n \")\n",
    "fic_update = {\"taha\" : a}\n",
    "fic.update(fic_update)\n",
    "print(fic)\n",
    "print(\"ommmphooo tahaaa omphooo\")\n"
   ]
  },
  {
   "cell_type": "code",
   "execution_count": null,
   "id": "a631cebf",
   "metadata": {},
   "outputs": [],
   "source": [
    "# 7 : IF NAMES OF 2 FRIENDS ARE SAME WHAT WILL TO THE PROGRAM IN PROBLEM 6 :\n",
    "a = input(\"enter your fav language Shubham \\n \")\n",
    "b = input(\"enter your fav language Ankit \\n \")\n",
    "c = input(\"enter your fav language Sonali \\n \")\n",
    "d = input(\"enter your fav language Harshita \\n  \")\n",
    "dic[\"Shubham\"] = a\n",
    "dic[\"Ankit\"] = b\n",
    "dic[\"Shubham\"] = c\n",
    "dic[\"Harshit\"] = d\n",
    "print(dic)"
   ]
  },
  {
   "cell_type": "code",
   "execution_count": null,
   "id": "d73b76e8",
   "metadata": {},
   "outputs": [],
   "source": [
    "# 8 : IF LANGUAGE OF TWO FRIENDS ARE SAME WHAT WILL HAPPEN TO THE PROGRAM IN PROBLEM 6 :\n",
    "dic = {}\n",
    "a = input(\"enter your fav language Shubham \\n \")\n",
    "b = input(\"enter your fav language Ankit \\n \")\n",
    "c = input(\"enter your fav language Sonali \\n \")\n",
    "d = input(\"enter your fav language Harshita \\n  \")\n",
    "dic[\"Shubham\"] = a\n",
    "dic[\"Ankit\"] = b\n",
    "dic[\"Sonali\"] = c\n",
    "dic[\"Harshit\"] = d\n",
    "print(dic)\n"
   ]
  },
  {
   "cell_type": "code",
   "execution_count": null,
   "id": "0ee7ab49",
   "metadata": {},
   "outputs": [],
   "source": [
    "# 9 : CAN YOU CHANGE THE VALUE INSIDE A LIST WHICH IS CONTAINED IN SET 5\n",
    "5 = {8,7,12 , \"harry\" , [7,8,9]}\n",
    "print(5)\n",
    "\n",
    "# NHI BHAI NHI CHANGE KR SAKTA HAI "
   ]
  },
  {
   "cell_type": "markdown",
   "id": "54797c5a",
   "metadata": {},
   "source": [
    "# CHAPTER 06 : CODITION EXPRESSION    (DAY 04)"
   ]
  },
  {
   "cell_type": "code",
   "execution_count": null,
   "id": "38188454",
   "metadata": {},
   "outputs": [],
   "source": [
    "a = 15\n",
    "if(a<3):\n",
    "    print(\"the value is greater than 3\")\n",
    "    \n",
    "elif(a>7):\n",
    "    print(\"the value of a is greater than 7\")\n",
    "    \n",
    "elif(a>17):\n",
    "    print(\"the value of a is greater than 17\")\n",
    "\n",
    "elif(a>17):\n",
    "    print(\"the value of a is greater than 317\")\n",
    "\n",
    "else:\n",
    "    print(\"the value is not greater than 3 or 7\")\n",
    "\n"
   ]
  },
  {
   "cell_type": "code",
   "execution_count": null,
   "id": "fb69a830",
   "metadata": {},
   "outputs": [],
   "source": [
    "Taha = input(\"taha teri wives k naam daal _\")\n",
    "duc = {\"1wife\" : \"sameera\" , \"2wife\" : \"afra\" , \"3wife\" : \"misba\" , \"4wife\" : \"4 wife koi bhi chalegi bhai\"}\n",
    "if Taha == \"1wife\" :\n",
    "    print(duc[\"1wife\"])\n",
    "elif Taha == \"2wife\" :\n",
    "    print(duc[\"2wife\"])\n",
    "elif Taha == \"3wife\":\n",
    "    print(duc[\"3wife\"])\n",
    "elif Taha == \"4wife\":\n",
    "    print(duc[\"4wife\"])\n",
    "else:\n",
    "    print(\"chutiye saale gunah hai yeh\")"
   ]
  },
  {
   "cell_type": "code",
   "execution_count": null,
   "id": "1fd9340c",
   "metadata": {},
   "outputs": [],
   "source": [
    "# QUICK QUIZE : WRITE A PROGRAM TO PRINT YES WHEN THE AGE ENTERED BY THE USER IS GREATER THEN OR EQUAL TO 18:\n",
    "\n",
    "# ans1 = 27\n",
    "# ans2 = 18\n",
    "# ans3 = 17\n",
    "if ans == 18  :\n",
    "    print(\"yes\")\n",
    "elif ans > 18 :\n",
    "    print(\"okey\")\n",
    "else :\n",
    "    print(\"no\")\n",
    "    \n",
    "# ==   : equal\n",
    "# >=   :greater than, equal\n",
    "# <=   :lesser than, equal\n",
    "\n",
    "# AND :\n",
    "age = 17\n",
    "if age > 18 and age < 34:      # both should be true\n",
    "    print(\"aaa yeah\")\n",
    "else :\n",
    "    print(\"bhak\")\n",
    "    \n",
    "# OR :\n",
    "age1 = 17\n",
    "if age1 > 18 or age1 < 34:      # one condition should be true\n",
    "    print(\"aaa yeah\")\n",
    "else :\n",
    "    print(\"bhak\")\n",
    "\n",
    "# NOT :   instead true to fase and false to true\n",
    "\n",
    "    \n"
   ]
  },
  {
   "cell_type": "markdown",
   "id": "a9dc5bc1",
   "metadata": {},
   "source": [
    "# IN AND IS"
   ]
  },
  {
   "cell_type": "code",
   "execution_count": null,
   "id": "08e50345",
   "metadata": {},
   "outputs": [],
   "source": [
    "# IS \n",
    "a = None\n",
    "if a is None :\n",
    "    print(\"yes\")\n",
    "else :\n",
    "    print(\"no\")\n",
    "    \n",
    "# IN\n",
    "LIST = [45,46,47]\n",
    "print(45 in LIST)\n",
    "print(145 in LIST)\n"
   ]
  },
  {
   "cell_type": "markdown",
   "id": "3188c697",
   "metadata": {},
   "source": [
    "# PRACTISE SET 06   (DAY 04)"
   ]
  },
  {
   "cell_type": "code",
   "execution_count": null,
   "id": "a2ea612b",
   "metadata": {},
   "outputs": [],
   "source": [
    "# 1 : WRITE A PROGRAM TO FIND GREATEST OF FOUR NUMBERS ENTERED BY THE USER\n",
    "num1 = 444\n",
    "num2 = 12356\n",
    "num3 = 7534333256578\n",
    "num4 = 8545577453\n",
    "if num1 > num2 and num1 > num3 and num1 > num4 :\n",
    "    print(\"greater is num1\")\n",
    "elif num2 > num1 and num2 > num3 and num2 > num4 :\n",
    "    print(\"greater is num2\")\n",
    "elif num3 > num1 and num3 > num2 and num3 > num4 :\n",
    "    print(\"greater is num3\")\n",
    "elif num4 > num1 and num4 > num2 and num4 > num3 :\n",
    "    print(\"greater is num4\")\n",
    "else :\n",
    "    print(\"Bhai tu rehne de plzz\")\n",
    "\n"
   ]
  },
  {
   "cell_type": "code",
   "execution_count": null,
   "id": "479b6f8e",
   "metadata": {},
   "outputs": [],
   "source": [
    "# 3 : WRITE A PROGRAM TO FIND OUT WHETHER A STUDENT IS PASS OR FAIL , IF IT REQUIRE TOTAL 40 % AND ATLEAST 33 IN EACH SUBJECT TO PASS. ASSUME 3 SUBJECTS AND TAKE MARKS AS AN INPUT FROM THE USER :\n",
    "english       = 33\n",
    "mathematics   = 33\n",
    "science       = 33\n",
    "per = (english+mathematics+science) / 300 *100\n",
    "print(per,\"\\tyour percentage\\n\")\n",
    "if english < 33 and mathematics < 33 and science < 33 :\n",
    "    print(\"you are fail\\n\")\n",
    "elif english >= 33 and mathematics >= 33 and science >= 33 :\n",
    "    print(\"you are pass\\t congrates\\n\")\n",
    "\n",
    "if per > 40 :\n",
    "    print(\"you are pass in percentage means you are above 40% \\t well done\\n\")\n",
    "elif per < 40 :\n",
    "    print(\"you are fail in percentage means you are below 40% better luck next time\\n\")\n",
    "\n",
    "\n",
    "\n",
    "\n",
    "\n"
   ]
  },
  {
   "cell_type": "code",
   "execution_count": null,
   "id": "cfd062cc",
   "metadata": {},
   "outputs": [],
   "source": [
    "# 3 A SPAM COMMENT IS DEFINED AS A TEXT CONATINING FOLLOWING KEYWORDS :\"MAKE A LOT OF MONEY\",\"BUY NOW\",\"SUBSCRIBE THIS\",\n",
    "#\"CLICK THIS\". WRITE TO DETECTS THESE SPAM\n",
    "text = \"make money and click this\"\n",
    "if \"make a lot of money\" in text :\n",
    "    spam = True\n",
    "elif \"buy now\" in text :\n",
    "    spam = True\n",
    "elif \"subscribe\" in text :\n",
    "    spam = True\n",
    "elif \"click this\" in text :\n",
    "    spam = True\n",
    "    \n",
    "if spam:\n",
    "    print(\"this text is spam\")\n",
    "else :\n",
    "    print(\"this text is not spam\")\n",
    "\n",
    "\n"
   ]
  },
  {
   "cell_type": "code",
   "execution_count": null,
   "id": "295d2627",
   "metadata": {},
   "outputs": [],
   "source": [
    "# 4 : WRITE A PROGRAM TO FIND WHETHER A GIVEN USERNAME CONTAINS LESS THAN 10 CHARACTERS OR NOT :\n",
    "name = \"abdullah\"\n",
    "length = len(name)\n",
    "if length < 10 :\n",
    "    print(\"a given username is less than 10 characters\")"
   ]
  },
  {
   "cell_type": "code",
   "execution_count": null,
   "id": "dbfad63b",
   "metadata": {},
   "outputs": [],
   "source": [
    "# 5 : WRITE A PROGRAM HICH FINDS OUT WHETHER A GIVEN NAME IS PRESENT IN A LIST OR NOT :\n",
    "namel = [\"abdullah\",\"hafiz\",\"taha\",\"ayyan\",\"mehtab\",\"zayyan\",\"hamza\",\"inamul\",\"sameera\",\"rutika\",\"shraddha\",\"kais\",\"ayyan\",\"fahad\"]\n",
    "text = \"misba\"\n",
    "if text in namel :\n",
    "    print(\"haan bhai turu friend\")\n",
    "else :\n",
    "    print(\"chala jaa ya chali jaa\")"
   ]
  },
  {
   "cell_type": "code",
   "execution_count": null,
   "id": "04797953",
   "metadata": {},
   "outputs": [],
   "source": [
    "# 6 : WRITE A PROGRAM TO CALCULATE THE GRADES OF A STUDENTS FROM HIS MARKS FROM THE FOLLOWING SCHEME :\n",
    "# 90 - 100 = ex\n",
    "# 80 - 90  = a\n",
    "# 70 - 80  = b\n",
    "# 60 - 70  = c\n",
    "# 50 - 60  = d\n",
    "\n",
    "marks = 54\n",
    "if marks > 90 and marks < 100 :\n",
    "    print(\"EXCELLENT grade\")\n",
    "elif marks > 80 and marks < 90 :\n",
    "    print(\"A grade\")\n",
    "elif marks > 70 and marks < 80 :\n",
    "    print(\"B grade\")\n",
    "elif marks > 60 and marks < 70 :\n",
    "    print(\"C grade\")\n",
    "elif marks > 50 and marks < 60 :\n",
    "    print(\"D garde\")\n",
    "else :\n",
    "    print(\"tera kuch nhi ho sakta bhau\")\n",
    "\n",
    "\n",
    "\n",
    "\n",
    "\n",
    "\n"
   ]
  },
  {
   "cell_type": "code",
   "execution_count": null,
   "id": "7a7e90da",
   "metadata": {},
   "outputs": [],
   "source": [
    "# 7 : WRITE A PROGRAM TO FIND OUT WHETHER A GIVEN POST IS TALKING ABOUT HARRY OR NNOT\n",
    "\n",
    "\n",
    "\n",
    "\n",
    "\n",
    "\n"
   ]
  },
  {
   "cell_type": "markdown",
   "id": "b44dc9e5",
   "metadata": {},
   "source": [
    "# CHP 07 : LOOPS IN PYTHON     (DAY 05)"
   ]
  },
  {
   "cell_type": "markdown",
   "id": "817c65a3",
   "metadata": {},
   "source": [
    "# WHILE LOOP"
   ]
  },
  {
   "cell_type": "code",
   "execution_count": null,
   "id": "32281453",
   "metadata": {},
   "outputs": [],
   "source": [
    "i = 0\n",
    "while i<10:\n",
    "    print(\"yes\" + str(i))\n",
    "    i = i +1\n",
    "print(\"done\\n\")\n",
    "\n",
    "# QUICK QUIZE : WRITE A PROGRAM TO PRINT 1 TO 50 USING A WHILE LOOP :\n",
    "n = 1\n",
    "while n<51 :\n",
    "    print(n)\n",
    "    n = n + 1 \n",
    "    \n",
    "# EXAMPLE :\n",
    "m = 0\n",
    "while m < 5 :\n",
    "    print(\"harrry\")\n",
    "    m = m + 1\n",
    "    \n",
    "# QUICK QUIZE : WRITE A PROGRAM TO PRINT THE CONTENT OF THE LIST USING WHILE LOOPS :\n",
    "\n",
    "list1 = [\"banana\" , \"apple\" , \"grapes\" , \"pine apple\" ]\n",
    "f = 0 \n",
    "while f < len(list1) :\n",
    "    print(list1[f])\n",
    "    f = f + 1\n",
    "\n",
    "list2 = [1,2,3,4,5,6,7,8,9]\n",
    "n1 = 0 \n",
    "while n1 < len(list2):\n",
    "    print(list2[n1])\n",
    "    n1 = n1 + 1\n",
    "\n",
    "\n",
    "\n"
   ]
  },
  {
   "cell_type": "markdown",
   "id": "43729705",
   "metadata": {},
   "source": [
    "# FOR LOOP"
   ]
  },
  {
   "cell_type": "code",
   "execution_count": null,
   "id": "82d23d13",
   "metadata": {},
   "outputs": [],
   "source": [
    "list1 = [\"banana\" , \"apple\" , \"grapes\" , \"pine apple\" ]\n",
    "for item in list1 :\n",
    "    print(item)"
   ]
  },
  {
   "cell_type": "markdown",
   "id": "b27d72dd",
   "metadata": {},
   "source": [
    "# RANGE FUNCTION :"
   ]
  },
  {
   "cell_type": "code",
   "execution_count": null,
   "id": "38e2a809",
   "metadata": {},
   "outputs": [],
   "source": [
    "for i in range(8) :                                          # how to use range\n",
    "    print(i)\n",
    "    \n",
    "print(\"hi \\n\")\n",
    "\n",
    "for i in range(1, 8) :                                         # starts and stops\n",
    "    print(i)\n",
    "\n",
    "print(\"hi \\n\")\n",
    "\n",
    "for i in range(2, 8) :                                            # starts and stops\n",
    "    print(i)\n",
    "\n",
    "print(\"hi \\n\")\n",
    "\n",
    "for i in range(1,8,2) :                                           #steps\n",
    "    print(i)"
   ]
  },
  {
   "cell_type": "markdown",
   "id": "a48df110",
   "metadata": {},
   "source": [
    "# FOR LOOP WITH ELSE"
   ]
  },
  {
   "cell_type": "code",
   "execution_count": null,
   "id": "9273c332",
   "metadata": {},
   "outputs": [],
   "source": [
    "for i in range(10) :\n",
    "    print(i)\n",
    "else :\n",
    "    print(\"khatam bye bye tata\")     #optional"
   ]
  },
  {
   "cell_type": "markdown",
   "id": "10b84ead",
   "metadata": {},
   "source": [
    "# BREAK STATEMENT"
   ]
  },
  {
   "cell_type": "code",
   "execution_count": null,
   "id": "2a583227",
   "metadata": {},
   "outputs": [],
   "source": [
    "for i in range(10) :\n",
    "    print(i)\n",
    "    if i == 5 :\n",
    "        break\n",
    "else :\n",
    "    print(\"khatam bye bye tata\")     #when loop is succesfully done then only executed \n"
   ]
  },
  {
   "cell_type": "markdown",
   "id": "21dac5f3",
   "metadata": {},
   "source": [
    "# CONTINUE STATEMENT"
   ]
  },
  {
   "cell_type": "code",
   "execution_count": null,
   "id": "dd5da310",
   "metadata": {},
   "outputs": [],
   "source": [
    "for i in range(10) :\n",
    "    if i == 5 :\n",
    "        continue                     # skip items   in range\n",
    "    print(i)"
   ]
  },
  {
   "cell_type": "markdown",
   "id": "1061c683",
   "metadata": {},
   "source": [
    "# passed statement"
   ]
  },
  {
   "cell_type": "code",
   "execution_count": null,
   "id": "5b467ce7",
   "metadata": {},
   "outputs": [],
   "source": [
    "i = 4 \n",
    "if i > 0:\n",
    "    pass      # not throw error work similar as comments\n",
    "print(\"harry\")\n",
    "\n",
    "while i > 6 :\n",
    "    pass\n",
    "print(\"Harry\")\n",
    "\n",
    "def run(player):\n",
    "    pass\n",
    "def ouch(player) :\n",
    "    pass\n",
    "\n",
    "print(\"functions\")"
   ]
  },
  {
   "cell_type": "markdown",
   "id": "928574da",
   "metadata": {},
   "source": [
    "# PRACTISE SET 07      (DAY 05)"
   ]
  },
  {
   "cell_type": "code",
   "execution_count": 46,
   "id": "5bd4cfd2",
   "metadata": {},
   "outputs": [
    {
     "name": "stdout",
     "output_type": "stream",
     "text": [
      "2X1=2\n",
      "2X2=4\n",
      "2X3=6\n",
      "2X4=8\n",
      "2X5=10\n",
      "2X6=12\n",
      "2X7=14\n",
      "2X8=16\n",
      "2X9=18\n",
      "2X10=20\n"
     ]
    }
   ],
   "source": [
    "# 1: WRITE A PROGRAM TO PRINT MULTIPLICATION TABLE OF A GIVEN NUMBAER USING FOR LOPP :\n",
    "num = 2\n",
    "for i in range(1,11):\n",
    "       print(str(num) + \"X\" + str(i) + \"=\" + str(i*num) )\n",
    "    \n",
    "    \n",
    "f\"{num}X{i}={num*i}     f  strng"
   ]
  },
  {
   "cell_type": "code",
   "execution_count": null,
   "id": "a83f3736",
   "metadata": {},
   "outputs": [],
   "source": [
    "# 2 : WRITE A PROGRAM TO GREET ALL THE PERSON NAMES STORE in a list l1 and which starts with \"s\"\n",
    "name_list = [\"harry\" , \"soham\" , \"sachin\" , \"rahul\" , \"sahil\" , \"shizuka\"]\n",
    "# print(name_list[0])\n",
    "name = \"shizuka\"\n",
    "for item in name_list:\n",
    "#     if (name_list[0]) == name or (name_list[3]) == name :\n",
    "#         print(\"Congradulation for your promotion bruh\")\n",
    "#         break\n",
    "#     elif (name_list[1]) == name or (name_list[2]) == name :\n",
    "#         print(\"Congradulation for your promotion bruh\")\n",
    "#         break\n",
    "#     else :\n",
    "#         print(\"mhi hua bhai\")\n",
    "#         break\n",
    "    if name[0] == \"s\" :\n",
    "        print(\"congrates promoted\")\n",
    "        break\n",
    "    else :\n",
    "        print(\"no bruh\")\n",
    "        break\n",
    "   "
   ]
  },
  {
   "cell_type": "code",
   "execution_count": null,
   "id": "44b07fa7",
   "metadata": {},
   "outputs": [],
   "source": [
    "# 3 : ATTEMPT PROBLEM 1 USING WHILE LOOP \n",
    "number = 2\n",
    "i = 0\n",
    "while i < 11 :\n",
    "    print( i * number )\n",
    "    i = i + 1\n",
    "    \n",
    "\n"
   ]
  },
  {
   "cell_type": "code",
   "execution_count": null,
   "id": "61420782",
   "metadata": {},
   "outputs": [],
   "source": [
    "# 4 : WRITE A PROGRAM TO FIND WHETHER A GIVEN NUMBER IS PRIME OR NOT :\n",
    "# 1st solution\n",
    "number = 79 \n",
    "for i in range(2,number) :\n",
    "    if (number%i==0):\n",
    "        print(\"it is not a prime number\")\n",
    "        break\n",
    "    else :\n",
    "        print(\"it is a prime number\")\n",
    "        break\n",
    "\n",
    "#2nd solution :\n",
    "number1 =34\n",
    "prime = True\n",
    "for i in range(2,number1):\n",
    "    if(number1%i):\n",
    "        prime = False\n",
    "        break\n",
    "if prime :\n",
    "    print(\"it is a prime number\")\n",
    "else :\n",
    "    print(\"it s not a prime number\")\n",
    "\n",
    "        \n",
    "        "
   ]
  },
  {
   "cell_type": "code",
   "execution_count": null,
   "id": "2f845e85",
   "metadata": {},
   "outputs": [],
   "source": [
    "# 5 : WRITE A PROGRAM TO FIND THE SUM OF FIRST N NATURAL NUMBER USING WHILE LOOP \n",
    "\n",
    "# solution 1 for while loop\n",
    "i = 2\n",
    "count = 1\n",
    "while i < 11:\n",
    "    count = count + i        #this count value will safe after one round of loop is done\n",
    "    i = i + 1\n",
    "print(count)\n",
    "    \n",
    "    \n",
    "#solution 2 for   for loop    \n",
    "count1 = 1\n",
    "for i in range (2,11):\n",
    "    count1 = count1 + i\n",
    "print(count1)\n",
    "\n",
    "\n",
    "\n",
    "    \n",
    "   \n"
   ]
  },
  {
   "cell_type": "code",
   "execution_count": 38,
   "id": "0c50c073",
   "metadata": {},
   "outputs": [
    {
     "name": "stdout",
     "output_type": "stream",
     "text": [
      "     *     \n",
      "    *  *  *    \n",
      "   *  *  *  *  *   \n",
      "  *  *  *  *  *  *  *  \n",
      "   *   \n",
      "  ***  \n",
      " ***** \n"
     ]
    }
   ],
   "source": [
    "# 7 : WRITE A PROGRAM TO PRINT THE FOLLOWING STAR PATTERN :\n",
    "n = 2\n",
    "for i in range(4):\n",
    "    print(\" \" * (n - i + 2), end =\"\")\n",
    "    print(\" * \" * (2 * i + 1), end =\"\")\n",
    "    print(\" \" * (n - i + 2))\n",
    "    \n",
    "n_ = 3\n",
    "for i in range (3) :\n",
    "    print(\" \" * (n_ - i - 1), end=\" \")\n",
    "    print(\"*\" * (2 * i + 1), end=\" \")\n",
    "    print(\" \" * (n_ - i - 1))\n",
    "               \n",
    "\n",
    "\n",
    "\n",
    "\n",
    "\n"
   ]
  },
  {
   "cell_type": "code",
   "execution_count": 11,
   "id": "b35d4408",
   "metadata": {},
   "outputs": [
    {
     "name": "stdout",
     "output_type": "stream",
     "text": [
      "1\n",
      "2\n",
      "6\n",
      "24\n",
      "120\n"
     ]
    }
   ],
   "source": [
    "# 8 : WRITE A PROGRAM TO CALCULATE THE FACTORIAL OF A GIVEN NUMBER USING LOOPS\n",
    "num = 5\n",
    "factorial = 1\n",
    "for i in range (1,num+1):\n",
    "    factorial = factorial * i\n",
    "    print(factorial)\n",
    "\n",
    "\n",
    "\n"
   ]
  },
  {
   "cell_type": "code",
   "execution_count": 13,
   "id": "ca6a59d5",
   "metadata": {},
   "outputs": [
    {
     "name": "stdout",
     "output_type": "stream",
     "text": [
      "*\n",
      "**\n",
      "***\n",
      "****\n"
     ]
    }
   ],
   "source": [
    "# 9 : WRITE A PROGRA TO PRINT THE FOLLOWING THE PATTERN :\n",
    "for i in range (4) :\n",
    "    print(\"*\" * (i + 1))"
   ]
  },
  {
   "cell_type": "code",
   "execution_count": 40,
   "id": "6aeb4029",
   "metadata": {},
   "outputs": [
    {
     "name": "stdout",
     "output_type": "stream",
     "text": [
      "  ***  \n",
      " ***** \n",
      "*******\n"
     ]
    }
   ],
   "source": [
    "# 10 WRITE A PROGRAM T PRINT THE FOLLOWING STAR PATTERN:\n",
    "n__ = 3\n",
    "for i in range (3) :\n",
    "    print(\" \" * (n__ - i - ), end =\"\")\n",
    "    print(\"*\" * (2 * i + 3),end=\"\")\n",
    "    print(\" \" * (n__ - i - ), )\n",
    "    "
   ]
  },
  {
   "cell_type": "code",
   "execution_count": 50,
   "id": "9ecd84bc",
   "metadata": {},
   "outputs": [
    {
     "name": "stdout",
     "output_type": "stream",
     "text": [
      "2X11=22\n",
      "2X10=20\n",
      "2X9=18\n",
      "2X8=16\n",
      "2X7=14\n",
      "2X6=12\n",
      "2X5=10\n",
      "2X4=8\n",
      "2X3=6\n",
      "2X2=4\n",
      "2X1=2\n"
     ]
    }
   ],
   "source": [
    "# 11 PRINT MULTIPLICATION TABLE IN REVERSE ORDER :\n",
    "for i in range(11,0,-1):\n",
    "    print(str(num) + \"X\" + str(i) + \"=\" + str(i*num) )\n",
    "    \n"
   ]
  },
  {
   "cell_type": "markdown",
   "id": "64545ce9",
   "metadata": {},
   "source": [
    "# CHAPTER 08 : FUNCTIONS AND RECURSIONS"
   ]
  },
  {
   "cell_type": "code",
   "execution_count": 56,
   "id": "7544dc9d",
   "metadata": {},
   "outputs": [
    {
     "name": "stdout",
     "output_type": "stream",
     "text": [
      "71.5 84.75\n"
     ]
    }
   ],
   "source": [
    "def percent(marks) :\n",
    "    return ((marks[0] + marks[1] + marks[2] + marks[3]) /400) * 100\n",
    "marks_1 = [45,78,86,77]\n",
    "percentage_1 = percent(marks_1)\n",
    "marks_2 = [75,98,88,78]\n",
    "percentage_2 = percent(marks_2)\n",
    "print(percentage_1 , percentage_2)\n",
    "\n",
    "\n",
    "# marks_1 = [45,78,86,77]\n",
    "# percentage_1 = sum(marks_1) /400 *100\n",
    "\n",
    "# marks_2 = [75,98,88,78]\n",
    "# percentage_2 = sum(marks_2)/400 *100\n",
    "\n",
    "# print(percentage_1 , percentage_2)\n",
    "\n",
    "\n",
    "\n",
    "\n",
    "\n",
    "\n"
   ]
  },
  {
   "cell_type": "code",
   "execution_count": 59,
   "id": "3d154f77",
   "metadata": {},
   "outputs": [
    {
     "name": "stdout",
     "output_type": "stream",
     "text": [
      "good day ,abdullah\n"
     ]
    }
   ],
   "source": [
    "# QUICK QUIZE : WRITE A PROGRAM TO GET A USER WITH A \"GOOD DAY\" USING FUNCTION\n",
    "def greet(name):\n",
    "    print(\"good day ,\" + name)\n",
    "greet(\"Abdullah\")\n",
    "\n"
   ]
  },
  {
   "cell_type": "markdown",
   "id": "5cf5f698",
   "metadata": {},
   "source": [
    "# Types of function :"
   ]
  },
  {
   "cell_type": "code",
   "execution_count": 64,
   "id": "2023d173",
   "metadata": {},
   "outputs": [
    {
     "name": "stdout",
     "output_type": "stream",
     "text": [
      "good day ,Abdullah\n",
      "53\n",
      "100\n"
     ]
    }
   ],
   "source": [
    "# build-in function \n",
    "\n",
    "\n",
    "#user defined function\n",
    "\n",
    "#1 :\n",
    "def greet(name):\n",
    "    print(\"good day ,\" + name)\n",
    "greet(\"Abdullah\")\n",
    "\n",
    "#2\n",
    "def add(num) :\n",
    "    plus = (num[0] + num [2] + num[3] + num[4] + num[5] + num[6] + num[7] +num[8] + num[9])\n",
    "    return plus\n",
    "num_list = [1,2,3,4,5,6,7,8,9,10]\n",
    "plus1 = add(num_list)\n",
    "print(plus1)\n",
    "\n",
    "#3\n",
    "def twosum(num1 , num2):\n",
    "    return num1 + num2\n",
    "s = twosum(9,91)\n",
    "print(s)"
   ]
  },
  {
   "cell_type": "markdown",
   "id": "55770330",
   "metadata": {},
   "source": [
    "# DEFAULT PARAMETER VALUE :"
   ]
  },
  {
   "cell_type": "code",
   "execution_count": 67,
   "id": "85161a21",
   "metadata": {},
   "outputs": [
    {
     "name": "stdout",
     "output_type": "stream",
     "text": [
      "good day , stranger\n",
      "good day , Abdullah\n"
     ]
    }
   ],
   "source": [
    "def greet(name = \"stranger\") :\n",
    "    return print(\"good day , \" + name)\n",
    "greet()      # when no argument is passed\n",
    "greet(\"Abdullah\")"
   ]
  },
  {
   "cell_type": "markdown",
   "id": "b5297816",
   "metadata": {},
   "source": [
    "# RECURSION"
   ]
  },
  {
   "cell_type": "code",
   "execution_count": 75,
   "id": "ce581ee3",
   "metadata": {
    "scrolled": true
   },
   "outputs": [
    {
     "name": "stdout",
     "output_type": "stream",
     "text": [
      "5040\n"
     ]
    },
    {
     "data": {
      "text/plain": [
       "40320"
      ]
     },
     "execution_count": 75,
     "metadata": {},
     "output_type": "execute_result"
    }
   ],
   "source": [
    "# n = 5\n",
    "# product = 1\n",
    "# for i in range (n) :\n",
    "#     product = product * (i + 1)\n",
    "# print(product)\n",
    "\n",
    "def factorial_iter(n):\n",
    "    product = 1\n",
    "    for i in range (n) :\n",
    "        product = product * (i + 1)\n",
    "    return product\n",
    "print(factorial_iter(7))\n",
    "\n",
    "def factorial_recursive(n) :\n",
    "    if n == 0 or n == 1 :\n",
    "        return 1\n",
    "    return n * factorial_recursive(n-1)\n",
    "factorial_recursive(8)\n"
   ]
  },
  {
   "cell_type": "markdown",
   "id": "0d40d55e",
   "metadata": {},
   "source": [
    "# PRACTICE SET 08 : "
   ]
  },
  {
   "cell_type": "code",
   "execution_count": 94,
   "id": "074505f7",
   "metadata": {},
   "outputs": [
    {
     "name": "stdout",
     "output_type": "stream",
     "text": [
      "77.8\n",
      "88\n"
     ]
    }
   ],
   "source": [
    "# 1 : WRITE A PROGRAM USING FUNCTION TO FIND GREATEST OF THREE NUMBERS :\n",
    "def maximum(num1,num2,num3) :\n",
    "    if num1 > num2 and num1 > num2 :\n",
    "        print(num1)\n",
    "    elif num2 > num1 and num2 > num3 :\n",
    "        print(num2)\n",
    "    elif num3 > num1 and num3 > num2:\n",
    "        print(num3)\n",
    "max1 = maximum(5,77,77.8)\n",
    "\n",
    "def greater(num_1,num_2,num_3) :\n",
    "    if (num_1>num_2) :\n",
    "        if (num_1>num_3) :\n",
    "            return num_1\n",
    "        else:\n",
    "            return num_3\n",
    "    else :\n",
    "        if(num_2>num_3) :\n",
    "            return num_2\n",
    "        else :\n",
    "            return num_3\n",
    "max2 = greater(66,77,88) \n",
    "print(max2)\n",
    "    \n",
    "        "
   ]
  },
  {
   "cell_type": "code",
   "execution_count": 99,
   "id": "a0e8a161",
   "metadata": {},
   "outputs": [
    {
     "name": "stdout",
     "output_type": "stream",
     "text": [
      "168.8\n"
     ]
    }
   ],
   "source": [
    "# 2 : WRITE A PROGRAM USING FUNCTION TO CONVERT CELSIUS TO FAHRENHEIT :\n",
    "def farh(cell) :\n",
    "    return (cell * (9/5)) + 32 \n",
    "c = 76\n",
    "f = farh(c)\n",
    "print(f)"
   ]
  },
  {
   "cell_type": "code",
   "execution_count": 101,
   "id": "f70b6c3a",
   "metadata": {},
   "outputs": [
    {
     "name": "stdout",
     "output_type": "stream",
     "text": [
      "Hello how are you? "
     ]
    }
   ],
   "source": [
    "# 3 : HOW DO YOU PREVENT PRINT() FUNCTION TO PRINT A NEW LINE AT THE END :\n",
    "print(\"Hello\", end= \" \")\n",
    "print(\"how\", end= \" \")\n",
    "print(\"are\", end= \" \")\n",
    "print(\"you?\", end= \" \")"
   ]
  },
  {
   "cell_type": "code",
   "execution_count": 111,
   "id": "271947f2",
   "metadata": {},
   "outputs": [
    {
     "data": {
      "text/plain": [
       "154"
      ]
     },
     "execution_count": 111,
     "metadata": {},
     "output_type": "execute_result"
    }
   ],
   "source": [
    "# 4 : WRITE A RECUSIVE FUCTION TO CALCULATE THE SUM OF FIRST N NATURAL NUMBER :\n",
    "def calculate(num) :\n",
    "    count1 = 1\n",
    "    for i in range(num) :\n",
    "        count1 = i + count1\n",
    "    return count1\n",
    "        \n",
    "n = 18\n",
    "calculate(n)\n",
    "        "
   ]
  },
  {
   "cell_type": "code",
   "execution_count": 123,
   "id": "b4f3dd91",
   "metadata": {},
   "outputs": [
    {
     "name": "stdout",
     "output_type": "stream",
     "text": [
      "******\n",
      "*****\n",
      "****\n",
      "***\n",
      "**\n",
      "*\n"
     ]
    }
   ],
   "source": [
    "# 5 : WRITE A PYTHON FUNCTION TO PRINT FIRST N LINES OF THE FOLLOWING PATTERN :\n",
    "n = 6 \n",
    "for i in range (n) :\n",
    "    print(\"*\" * (n-i))"
   ]
  },
  {
   "cell_type": "code",
   "execution_count": 125,
   "id": "6280d746",
   "metadata": {},
   "outputs": [
    {
     "name": "stdout",
     "output_type": "stream",
     "text": [
      "15.24\n"
     ]
    }
   ],
   "source": [
    "# 6 : WRITE A PYTHON FUNCTION which converts inches to cms :\n",
    "def cms(num):\n",
    "    return(num * 2.54)\n",
    "n = 6\n",
    "p = cms(n)\n",
    "print(p)"
   ]
  },
  {
   "cell_type": "code",
   "execution_count": 132,
   "id": "e1b1689e",
   "metadata": {},
   "outputs": [
    {
     "name": "stdout",
     "output_type": "stream",
     "text": [
      "is a good boy\n"
     ]
    }
   ],
   "source": [
    "# 7  : WRITE A PYTHON PROGRAM TO REMOVE A GIVEN WORD FROM A STRINGE AND STRIP IT AT THE SAME TIME :\n",
    "\n",
    "# strip\n",
    "harry = \"      Harry is a good boy        \"\n",
    "# print(harry)\n",
    "# print(harry.strip())\n",
    "\n",
    "def remove_and_split(string , word) :\n",
    "    newstr = string.replace(word,\"\")\n",
    "    return newstr.strip()\n",
    "n = remove_and_split(harry,\"Harry\")\n",
    "print(n)"
   ]
  },
  {
   "cell_type": "code",
   "execution_count": 140,
   "id": "aeb148af",
   "metadata": {},
   "outputs": [
    {
     "name": "stdout",
     "output_type": "stream",
     "text": [
      "0\n",
      "888\n",
      "1776\n",
      "2664\n",
      "3552\n",
      "4440\n",
      "5328\n",
      "6216\n",
      "7104\n",
      "7992\n",
      "8880\n",
      "None\n"
     ]
    }
   ],
   "source": [
    "# 8 : WRITE A PYTHON FUNCTIO TO PRINT MULTIPLICATION TABLE OF  GIVEN NUMBER :\n",
    "def table(num):\n",
    "    for i in range (11):\n",
    "        print(i * num)\n",
    "        \n",
    "n =888\n",
    "y = table(n)\n",
    "print(y)"
   ]
  },
  {
   "cell_type": "markdown",
   "id": "7f9f008e",
   "metadata": {},
   "source": [
    "# CHAPTER 09 : FILE "
   ]
  },
  {
   "cell_type": "code",
   "execution_count": null,
   "id": "404220ae",
   "metadata": {},
   "outputs": [],
   "source": [
    "#TYPES OF FILES :\n",
    "# 1. text file (open inn notepad)\n",
    "# 2 .binary file (open inn notepad but cannot be undrstood)"
   ]
  },
  {
   "cell_type": "code",
   "execution_count": 10,
   "id": "0ea9bc20",
   "metadata": {},
   "outputs": [
    {
     "name": "stdout",
     "output_type": "stream",
     "text": [
      "abdullah is a good boiiiii...\n",
      "you are fine naa bruhh....\n",
      "thanks for your help ...\n",
      "abdul\n"
     ]
    },
    {
     "data": {
      "text/plain": [
       "<function TextIOWrapper.close()>"
      ]
     },
     "execution_count": 10,
     "metadata": {},
     "output_type": "execute_result"
    }
   ],
   "source": [
    "f = open('untitled.txt', 'r')      # open a file 'r' is there\n",
    "data = f.read()\n",
    "print(data)\n",
    "f.close                    \n",
    "\n",
    "f1 = open('untitled.txt')          #open a file 'r' is not there\n",
    "data1 = f1.read(5)                 # first 5 letters in file\n",
    "print(data1)\n",
    "f1.close"
   ]
  },
  {
   "cell_type": "markdown",
   "id": "c2ba44ce",
   "metadata": {},
   "source": [
    "# OTHER METHODS TO READ THE FILE"
   ]
  },
  {
   "cell_type": "code",
   "execution_count": 11,
   "id": "524828a0",
   "metadata": {},
   "outputs": [
    {
     "name": "stdout",
     "output_type": "stream",
     "text": [
      "abdullah is a good boiiiii...\n",
      "\n",
      "you are fine naa bruhh....\n",
      "\n"
     ]
    },
    {
     "data": {
      "text/plain": [
       "<function TextIOWrapper.close()>"
      ]
     },
     "execution_count": 11,
     "metadata": {},
     "output_type": "execute_result"
    }
   ],
   "source": [
    "# Readline function :\n",
    "f3 = open('untitled.txt')      \n",
    "data3 = f3.readline()                      # read First line\n",
    "print(data3)\n",
    "\n",
    "data3 = f3.readline()                      # read Second line\n",
    "print(data3)\n",
    "\n",
    "data3 = f3.readline()                      # read Third line\n",
    "print(data3)\n",
    "f3.close  \n",
    "\n",
    "# Open for writins   :   'w'\n",
    "# open frappending   :   'a'\n",
    "# open for updating  :   '+'\n",
    "\n",
    "#binary file :\n",
    "# open for read in text mode :  'rt'\n",
    "# open for read in binary mode : 'rt'"
   ]
  },
  {
   "cell_type": "markdown",
   "id": "08258b90",
   "metadata": {},
   "source": [
    "# WRITING FILES IN PYTHON"
   ]
  },
  {
   "cell_type": "code",
   "execution_count": 27,
   "id": "9ba44ee3",
   "metadata": {},
   "outputs": [],
   "source": [
    "# g = open ('harry.text','w')   to  make a file if it does not assess or to wright in file\n",
    "# g.write(\"please write to the file\")\n",
    "# g.close()\n",
    "g=open('harry.text' , 'a')\n",
    "g.write(\" i am appending \")      # how much you run thats time it will print to the file\n",
    "g.close()"
   ]
  },
  {
   "cell_type": "code",
   "execution_count": 28,
   "id": "57a422fb",
   "metadata": {},
   "outputs": [],
   "source": [
    "o = open('harry.text','w')\n",
    "o.write(\"my name is abdullah \")    # all content wipe out and only print in the wright functon\n",
    "o.write(\"my name is farhaan \")\n",
    "o.write(\"my name is lion \")\n",
    "o.write(\"my name is abdulla \")\n",
    "o.close()"
   ]
  },
  {
   "cell_type": "markdown",
   "id": "d70c48a6",
   "metadata": {},
   "source": [
    "# WITH STATEMENT"
   ]
  },
  {
   "cell_type": "code",
   "execution_count": 32,
   "id": "7308c300",
   "metadata": {},
   "outputs": [
    {
     "name": "stdout",
     "output_type": "stream",
     "text": [
      "me\n"
     ]
    }
   ],
   "source": [
    "with open('harry.text' , 'r') as f :\n",
    "    a = f.read()\n",
    "print(a)\n",
    "with open('harry.text' , 'w') as f :\n",
    "    a = f.write(\"me\")\n",
    "\n",
    "\n"
   ]
  },
  {
   "cell_type": "markdown",
   "id": "1f02725a",
   "metadata": {},
   "source": [
    "#  CHAPTER 10 : OBJECT ORIENTED PROGRAMMING"
   ]
  },
  {
   "cell_type": "code",
   "execution_count": 36,
   "id": "9cdbb433",
   "metadata": {},
   "outputs": [
    {
     "name": "stdout",
     "output_type": "stream",
     "text": [
      "46\n"
     ]
    }
   ],
   "source": [
    "class number :\n",
    "    def sum(self):\n",
    "        return self.a + self.b\n",
    "num = number()\n",
    "num.a = 12\n",
    "num.b = 34\n",
    "s = num.sum()\n",
    "print(s)\n",
    "\n",
    "\n",
    "\n",
    "\n",
    "# a = 12\n",
    "# b = 34\n",
    "# print(\"the sum is\",a+b)"
   ]
  },
  {
   "cell_type": "markdown",
   "id": "1ee19ef6",
   "metadata": {},
   "source": [
    "# CLASS"
   ]
  },
  {
   "cell_type": "code",
   "execution_count": null,
   "id": "8e8dbe20",
   "metadata": {},
   "outputs": [],
   "source": [
    "# a class is a blueprint do not take memory by its own      (PascalCase)\n",
    "\n",
    "'''\n",
    "PascalCase\n",
    "EmployeeName --> PascalCase          # first letter capital and second letter is also capital\n",
    "\n",
    "camalCase\n",
    "isNumeric,isFloat,isFloatInt --> camalCase      # first letter is small and second letter is capital and aage bhi capital hoga koi bhi letter\n",
    "'''\n",
    "\n",
    "\n",
    "\n"
   ]
  },
  {
   "cell_type": "markdown",
   "id": "3954ae73",
   "metadata": {},
   "source": [
    "# OBJECT"
   ]
  },
  {
   "cell_type": "code",
   "execution_count": null,
   "id": "1cf70d24",
   "metadata": {},
   "outputs": [],
   "source": [
    "#when object ia made then only application is available.Memory ia alloted after object instantiation(num=number())"
   ]
  },
  {
   "cell_type": "code",
   "execution_count": 46,
   "id": "0d55ff41",
   "metadata": {},
   "outputs": [
    {
     "name": "stdout",
     "output_type": "stream",
     "text": [
      "name is_ abdullah\n",
      "runs is_ 43\n",
      "series played_3\n"
     ]
    }
   ],
   "source": [
    "# 1 :\n",
    "class RailwayForm :\n",
    "    formtype = \"Railwayform\"\n",
    "    def printdata(self) :\n",
    "        print(f\"Name is {self.name}\")\n",
    "        print(f\"Train is {self.train}\")\n",
    "    \n",
    "    \n",
    "harryApplication = RailwayForm()          # it is object how it s writtern\n",
    "harryApplication.name  = \"Harry\"\n",
    "harryApplication.train = \"Rajdhani Express\"\n",
    "harryApplication.printdata()\n",
    "\n",
    "# 2 :\n",
    "class Cricket():\n",
    "    def cricketdata(self):\n",
    "        print(f\"name is_ {self.name}\")\n",
    "        print(f\"runs is_ {self.run}\")\n",
    "        print(f\"series played_{self.series}\")\n",
    "ogPlayer = Cricket()\n",
    "ogPlayer.name    = \"abdullah\"\n",
    "ogPlayer.run     = 43\n",
    "ogPlayer.series   = 3\n",
    "ogPlayer.cricketdata()\n",
    "\n",
    "\n",
    "# 3 :\n",
    "\n",
    "# class remote:\n",
    "#     def isLeftPressed(self):\n",
    "#         pass\n",
    "#     def isRightPressed(self):\n",
    "#         pass\n",
    "#     def isTopPressed(self):\n",
    "#         pass\n",
    "\n",
    "# class player :\n",
    "#     def moveright(self) :\n",
    "#         pass\n",
    "#     def moveleft(self) :\n",
    "#         pass\n",
    "#     def movetop(self) :\n",
    "#         pass\n",
    "\n",
    "# remote1 = remote()           this is a object\n",
    "# player1 = player()           this is a object\n",
    "\n",
    "# if(remote1.isLeftPressed()) :\n",
    "#     player1.moveleft()\n",
    "    \n",
    "\n",
    "\n",
    "\n",
    "\n",
    "\n",
    "\n",
    "\n",
    "\n"
   ]
  },
  {
   "cell_type": "markdown",
   "id": "01e2743c",
   "metadata": {},
   "source": [
    "# CLASS ATTRIBUTES"
   ]
  },
  {
   "cell_type": "code",
   "execution_count": 61,
   "id": "a795a923",
   "metadata": {},
   "outputs": [
    {
     "name": "stdout",
     "output_type": "stream",
     "text": [
      "300\n",
      "400\n",
      "100\n"
     ]
    }
   ],
   "source": [
    "#CLASS ATTRIBUTES :\n",
    "# class Employe :\n",
    "#     company = \"Google\"          # this can be change .....fr the requirements...\n",
    "# harry = Employe()\n",
    "# rajni = Employe()\n",
    "# print(harry.company)\n",
    "# print(rajni.company)\n",
    "# Employe.company = \"You Tube\"    # here google is changed by You Tube\n",
    "# print(harry.company)\n",
    "# print(rajni.company)\n",
    "\n",
    "\n",
    "# INSTANCE ATTRIBUTES :    (add )\n",
    "class Employe1 :\n",
    "    company1 = \"Google1\" \n",
    "    salary   = 100            # here is same in class\n",
    "harry1 = Employe1()\n",
    "rajni1 = Employe1()\n",
    "harry1.salary = 300  #cooment kr k dekh          # instance attribute   variabe is use aanoter with same as in class\n",
    "rajni1.salary  = 400 #cooment kr k dekh          # instance attribute   variabe is use aanoter with same as in class\n",
    "print(harry1.salary)\n",
    "print(rajni1.salary)\n",
    "print(Employe1.salary)\n",
    "\n",
    "\n",
    "\n",
    "\n",
    "\n",
    "\n",
    "\n"
   ]
  },
  {
   "cell_type": "markdown",
   "id": "60e20085",
   "metadata": {},
   "source": [
    "# SELF PARAMETER"
   ]
  },
  {
   "cell_type": "code",
   "execution_count": 14,
   "id": "217c7642",
   "metadata": {},
   "outputs": [
    {
     "name": "stdout",
     "output_type": "stream",
     "text": [
      "salary for this employee working in Google is 100000 \n",
      " thanks !\n"
     ]
    }
   ],
   "source": [
    "class Employee :\n",
    "    company = \"Google\"\n",
    "    def getsalary(self , signature): #harry will come in self\n",
    "        print(f\"salary for this employee working in {self.company} is {self.salary} \\n {signature}\")\n",
    "harry = Employee()\n",
    "harry.salary = 100000\n",
    "harry.getsalary(\"thanks !\")     # Employee.getsalary(harry)"
   ]
  },
  {
   "cell_type": "markdown",
   "id": "8c0fad2e",
   "metadata": {},
   "source": [
    "# STATIC METHOD"
   ]
  },
  {
   "cell_type": "code",
   "execution_count": 15,
   "id": "63d6662d",
   "metadata": {},
   "outputs": [
    {
     "name": "stdout",
     "output_type": "stream",
     "text": [
      "Good Morning , Sir\n",
      "the time is 9AM  in the evening\n"
     ]
    }
   ],
   "source": [
    "class Employee :\n",
    "    @staticmethod   # this is a static method where self will ignore down\n",
    "    def greet (): \n",
    "        print(\"Good Morning , Sir\")\n",
    "    @staticmethod\n",
    "    def time () :\n",
    "        print(\"the time is 9AM  in the evening\")\n",
    "\n",
    "harry = Employee()\n",
    "harry.greet()  \n",
    "harry.time()\n",
    "\n",
    "#  @staticmethod\n"
   ]
  },
  {
   "cell_type": "markdown",
   "id": "07d3ee34",
   "metadata": {},
   "source": [
    "# CLASS METHOD       (cls)"
   ]
  },
  {
   "cell_type": "code",
   "execution_count": 97,
   "id": "93e3f6c1",
   "metadata": {},
   "outputs": [
    {
     "name": "stdout",
     "output_type": "stream",
     "text": [
      "100\n",
      "1000\n",
      "1000\n",
      "Maharashtra\n"
     ]
    }
   ],
   "source": [
    "class Employee :\n",
    "    company = \"Camel\"\n",
    "    salary = 100\n",
    "    location = \"Delhi\"\n",
    "    \n",
    "#     def changeSalary(self,sal) :\n",
    "#         self.__class__.salary = sal            # METHOD 1 : aisa bhi kr sakte hai jidher class change kr sakte hai\n",
    "    @classmethod\n",
    "    def changeSalary(cls,sal) :                  # METHOD 2 : aisa bhi kr sakte hai jidher class change kr sakte hai\n",
    "        cls.salary = sal\n",
    "    @classmethod\n",
    "    def changelocation(cls,locatio) :\n",
    "        cls.location = locatio\n",
    "        \n",
    "e = Employee()\n",
    "print(e.salary)\n",
    "\n",
    "e.changeSalary(1000)\n",
    "print(e.salary)\n",
    "\n",
    "print(Employee.salary)\n",
    "\n",
    "e.changelocation(\"Maharashtra\")\n",
    "print(e.location)"
   ]
  },
  {
   "cell_type": "code",
   "execution_count": 33,
   "id": "b3ae3689",
   "metadata": {},
   "outputs": [
    {
     "name": "stdout",
     "output_type": "stream",
     "text": [
      "Employee is created\n",
      "The name of the employee is sumit\n",
      "The name of the employee is 100\n",
      "The name of the employee is TouTube\n",
      "Employee is created\n",
      "The name of the employee is rahul\n",
      "The name of the employee is 200\n",
      "The name of the employee is WhatsApp\n",
      "Employee is created\n",
      "The name of the employee is Abdullah\n",
      "The name of the employee is 300\n",
      "The name of the employee is Facebook\n"
     ]
    }
   ],
   "source": [
    "class Employee :\n",
    "    company = \"Google\"\n",
    "    \n",
    "    def __init__(self , name , salary , subunits):       # constructor\n",
    "        self.name = name\n",
    "        self.salary = salary\n",
    "        self.subunits = subunits\n",
    "        print(\"Employee is created\")\n",
    "    def getDetails(self) :\n",
    "        print(f\"The name of the employee is {self.name}\")\n",
    "        print(f\"The name of the employee is {self.salary}\")\n",
    "        print(f\"The name of the employee is {self.subunits}\")\n",
    "    def getsalary(self , signature): #harry will come in self\n",
    "        print(f\"salary for this employee working in {self.company} is {self.salary} \\n {signature}\")\n",
    "    @staticmethod   # this is a static method where self will ignore down\n",
    "    def greet (): \n",
    "        print(\"Good Morning , Sir\")\n",
    "    @staticmethod\n",
    "    def time () :\n",
    "        print(\"the time is 9AM  in the evening\")\n",
    "# harry = Employee(\"harry\", 100 , \"TouTube\" )\n",
    "# harry.getDetails()\n",
    "sumit = Employee(\"sumit\", 100 , \"TouTube\")\n",
    "sumit.getDetails()\n",
    "\n",
    "rahul = Employee(\"rahul\", 200 , \"WhatsApp\")\n",
    "rahul.getDetails()\n",
    "\n",
    "abdullah = Employee(\"Abdullah\", 300 , \"Facebook\")\n",
    "abdullah.getDetails()"
   ]
  },
  {
   "cell_type": "markdown",
   "id": "e009a6c4",
   "metadata": {},
   "source": [
    "# PRACTISE SET : 10 "
   ]
  },
  {
   "cell_type": "code",
   "execution_count": 39,
   "id": "ba9929de",
   "metadata": {},
   "outputs": [
    {
     "name": "stdout",
     "output_type": "stream",
     "text": [
      "The name of the Microsoft employee is Harry and the product is GitHub\n",
      "The name of the Microsoft employee is Abdullah and the product is Skype\n"
     ]
    }
   ],
   "source": [
    "#Q 1 : CREATE A CLASS PROGRAMMER FOR STORING INFORMATION OF FEW PROGRAMMERS WORKING AT MICROSOFT :\n",
    "\n",
    "\n",
    "class Micro :\n",
    "    company = \"Microsoft\"\n",
    "    def __init__(self , name , product) :\n",
    "        self.name     = name\n",
    "        self.product  = product\n",
    "        \n",
    "    def getInfo(self) :\n",
    "        print(f\"The name of the {self.company} employee is {self.name} and the product is {self.product}\")\n",
    "\n",
    "abdullah = Micro(\"Abdullah\" , \"Skype\")\n",
    "harry = Micro(\"Harry\" , \"GitHub\")\n",
    "harry.getInfo()\n",
    "abdullah.getInfo()\n",
    "        \n",
    "        "
   ]
  },
  {
   "cell_type": "code",
   "execution_count": 49,
   "id": "c50fcaad",
   "metadata": {},
   "outputs": [
    {
     "name": "stdout",
     "output_type": "stream",
     "text": [
      "the value of 9 square is 81 \n",
      "the value of 9 cube is 729 \n",
      "the value of 9 squareroot is 3.0 \n"
     ]
    }
   ],
   "source": [
    "# Q 2 : WRITE A CLASS PROGRAMMER FOR STORING OF FINDING SQUARE,CUBE AnD QUAREROOT OF A NUMBER :\n",
    "class Calculator :\n",
    "    def __init__(self , num):\n",
    "        self.num = num\n",
    "    def square(self) :\n",
    "        print(f\"the value of {self.num} square is {self.num**2} \")\n",
    "    def cube(self) :\n",
    "        print(f\"the value of {self.num} cube is {self.num**3} \")\n",
    "    def squareroot(self) :\n",
    "        print(f\"the value of {self.num} squareroot is {self.num**0.5} \")\n",
    "        \n",
    "a = Calculator(9)\n",
    "a.square()\n",
    "a.cube()\n",
    "a.squareroot()\n",
    "\n",
    "    \n",
    "\n",
    "\n",
    "\n",
    "\n",
    "\n"
   ]
  },
  {
   "cell_type": "code",
   "execution_count": 50,
   "id": "402f0e7e",
   "metadata": {},
   "outputs": [
    {
     "name": "stdout",
     "output_type": "stream",
     "text": [
      "hello world\n"
     ]
    }
   ],
   "source": [
    "print(\"hello world\")"
   ]
  },
  {
   "cell_type": "markdown",
   "id": "82dabdea",
   "metadata": {},
   "source": [
    "# CHP 11 : INHERITANCE AND MORE ON OPPS"
   ]
  },
  {
   "cell_type": "code",
   "execution_count": 57,
   "id": "f55cc37c",
   "metadata": {},
   "outputs": [
    {
     "name": "stdout",
     "output_type": "stream",
     "text": [
      "this is an employee\n",
      "the language is Python\n",
      "this is an programmer\n",
      "youtube\n"
     ]
    }
   ],
   "source": [
    "class Employee :\n",
    "    company = \"Google\"\n",
    "    \n",
    "    def showDetails(self) :\n",
    "        print(\"this is an employee\")\n",
    "        \n",
    "class programmer(Employee) :                   # class k andar class hai bhayiiii...\n",
    "    language = \"Python\"\n",
    "    company = \"youtube\"                       # naya banana rahega to bana sakte hai same name k saath bhi bhai...\n",
    "    def getLanguage(self):\n",
    "        print(f\"the language is {self.language}\")\n",
    "    def showDetails(self) :\n",
    "        print(\"this is an programmer\")        # naya banana rahega to bana sakte hai same name k saath bhi bhai...\n",
    "e = Employee()\n",
    "e.showDetails()\n",
    "\n",
    "p = programmer()\n",
    "p.getLanguage()\n",
    "p.showDetails()\n",
    "print(p.company)\n",
    "\n",
    "\n",
    "\n",
    "\n",
    "\n",
    "\n"
   ]
  },
  {
   "cell_type": "markdown",
   "id": "0a6e22f8",
   "metadata": {},
   "source": [
    "# TYPES OF INHERITACE"
   ]
  },
  {
   "cell_type": "code",
   "execution_count": null,
   "id": "822d811d",
   "metadata": {},
   "outputs": [],
   "source": [
    "# SINGLE INHERITANCE :\n",
    "class Employee :\n",
    "    company = \"Google\"\n",
    "    \n",
    "    def showDetails(self) :\n",
    "        print(\"this is an employee\")\n",
    "        \n",
    "class programmer(Employee) :                  \n",
    "    language = \"Python\"\n",
    "    company = \"youtube\"                       \n",
    "    def getLanguage(self):\n",
    "        print(f\"the language is {self.language}\")\n",
    "    def showDetails(self) :\n",
    "        print(\"this is an programmer\") \n",
    "        \n",
    "\n",
    "\n"
   ]
  },
  {
   "cell_type": "code",
   "execution_count": 65,
   "id": "012af9a6",
   "metadata": {},
   "outputs": [
    {
     "name": "stdout",
     "output_type": "stream",
     "text": [
      "1\n",
      "Visa\n"
     ]
    }
   ],
   "source": [
    "# MULTIPLE INHERITANCE :\n",
    "class Employee :\n",
    "    company = \"Visa\"\n",
    "    ecode = 120\n",
    "class Freelancer :\n",
    "    company = \"Fiver\"\n",
    "    level = 0\n",
    "    \n",
    "    def upgradeLevel(self) :\n",
    "        self.level = self.level + 1\n",
    "class Programmer(Employee,Freelancer) :    # jo pehle likhege wahi aayega pehle \n",
    "    name = \"Rohit\"\n",
    "p = Programmer()\n",
    "p.upgradeLevel()\n",
    "print(p.level)\n",
    "print(p.company)                  #yeh waali line dekh "
   ]
  },
  {
   "cell_type": "code",
   "execution_count": 73,
   "id": "e6254d1a",
   "metadata": {},
   "outputs": [
    {
     "name": "stdout",
     "output_type": "stream",
     "text": [
      "I am breathing...\n",
      "I am an employee so i am luckly breathing\n",
      "I am an employee so i am luckly breathing\n",
      "India\n"
     ]
    }
   ],
   "source": [
    "# MULTILEVEL INHERITANCE :\n",
    "class  Person :                                 # dada\n",
    "    country = \"India\"\n",
    "    def takebreak(self) :\n",
    "        print(\"I am breathing...\")\n",
    "\n",
    "        \n",
    "class Employee(Person) :                                # dada ka beta_1\n",
    "    company = \"Honda\"\n",
    "    \n",
    "    def getSalary(self) :\n",
    "        print(f\"salary is {self.salary}\")\n",
    "    def takebreak(self) :\n",
    "        print(\"I am an employee so i am luckly breathing\")\n",
    "        \n",
    "\n",
    "class Programmer(Employee) :                   # beta_1 ka beta\n",
    "    company = \"Fiver\"\n",
    "    def getSalary(self) :\n",
    "        print(\"No salary to programmer\")\n",
    "\n",
    "p = Person()\n",
    "p.takebreak()\n",
    "\n",
    "e = Employee()\n",
    "e.takebreak()\n",
    "\n",
    "pr = Programmer()\n",
    "pr.takebreak()\n",
    "print(pr.country)\n"
   ]
  },
  {
   "cell_type": "markdown",
   "id": "5a4cf0f1",
   "metadata": {},
   "source": [
    "# SUPER METHOD"
   ]
  },
  {
   "cell_type": "code",
   "execution_count": 76,
   "id": "ee803293",
   "metadata": {},
   "outputs": [
    {
     "name": "stdout",
     "output_type": "stream",
     "text": [
      "I am breathing...\n",
      "I am breathing...\n",
      "I am an employee so i am luckly breathing\n",
      "I am breathing...\n",
      "I am an employee so i am luckly breathing\n",
      "i am not am employee so i can't\n"
     ]
    }
   ],
   "source": [
    "class  Person :                                 # dada\n",
    "    country = \"India\"\n",
    "    def takebreak(self) :\n",
    "        print(\"I am breathing...\")\n",
    "\n",
    "        \n",
    "class Employee(Person) :                                # dada ka beta_1\n",
    "    company = \"Honda\"\n",
    "    \n",
    "    def getSalary(self) :\n",
    "        print(f\"salary is {self.salary}\")\n",
    "    def takebreak(self) :\n",
    "        super().takebreak()\n",
    "        print(\"I am an employee so i am luckly breathing\")\n",
    "        \n",
    "\n",
    "class Programmer(Employee) :                   # beta_1 ka beta\n",
    "    company = \"Fiver\"\n",
    "    def getSalary(self) :\n",
    "        print(\"No salary to programmer\")\n",
    "    def takebreak(self) :\n",
    "        super().takebreak()                    # yeh line daalne se upar ki class ka run hoga agar woh (takebreak) hai to ...\n",
    "        print(\"i am not am employee so i can't\")\n",
    "\n",
    "p = Person()\n",
    "p.takebreak()\n",
    "\n",
    "e = Employee()\n",
    "e.takebreak()\n",
    "\n",
    "pr = Programmer()\n",
    "pr.takebreak()\n",
    "\n",
    "\n",
    "\n",
    "\n",
    "# agar superclass bohut baaar daale hai to woh chain ban jayegi or ek dusre pe depend ho jayegi woh bolegi pehle upar ka \n",
    "# super class run kr k aao"
   ]
  },
  {
   "cell_type": "markdown",
   "id": "79a3328d",
   "metadata": {},
   "source": [
    "# SUPER METHOD USE IN CONSTRUCTOR"
   ]
  },
  {
   "cell_type": "code",
   "execution_count": 80,
   "id": "fa494251",
   "metadata": {},
   "outputs": [
    {
     "name": "stdout",
     "output_type": "stream",
     "text": [
      "initializing person..\n",
      "initializing employee..\n",
      "initializing Programmer..\n"
     ]
    }
   ],
   "source": [
    "class  Person :                                 \n",
    "    country = \"India\"\n",
    "    def __init__(self):\n",
    "        print(\"initializing person..\")\n",
    "    def takebreak(self) :\n",
    "        print(\"I am breathing...\")\n",
    "\n",
    "        \n",
    "class Employee(Person) :                               \n",
    "    company = \"Honda\"\n",
    "    def __init__(self):\n",
    "        super().__init__()                                          # yeh line dekh bhai\n",
    "        print(\"initializing employee..\")\n",
    "    \n",
    "    def getSalary(self) :\n",
    "        print(f\"salary is {self.salary}\")\n",
    "    def takebreak(self) :\n",
    "        super().takebreak()\n",
    "        print(\"I am an employee so i am luckly breathing\")\n",
    "        \n",
    "\n",
    "class Programmer(Employee) :                  \n",
    "    company = \"Fiver\"\n",
    "    def __init__(self):\n",
    "        super().__init__()                                         # yeh line dekh bhai\n",
    "        print(\"initializing Programmer..\")\n",
    "    def getSalary(self) :\n",
    "        print(\"No salary to programmer\")\n",
    "    def takebreak(self) :\n",
    "        super().takebreak()                    \n",
    "        print(\"i am not am employee so i can't\")\n",
    "        \n",
    "        \n",
    "# e = Employee()\n",
    "pr = Programmer()"
   ]
  },
  {
   "cell_type": "markdown",
   "id": "26340c03",
   "metadata": {},
   "source": [
    "# PROPERTY DECORATOR"
   ]
  },
  {
   "cell_type": "code",
   "execution_count": 114,
   "id": "72373b16",
   "metadata": {},
   "outputs": [
    {
     "name": "stdout",
     "output_type": "stream",
     "text": [
      "6000\n",
      "5600\n",
      "200\n"
     ]
    }
   ],
   "source": [
    "class Employee :\n",
    "    company = \"Bharat Gas\"\n",
    "    salary = 5600\n",
    "    salarybonus = 400\n",
    "    \n",
    "    @property #getter\n",
    "    def totalSalary(self) :\n",
    "        return (self.salary) + (self.salarybonus)\n",
    "    \n",
    "    @totalSalary.setter\n",
    "    def totalSalary(self,val):\n",
    "        self.salarybonus = val - self.salary\n",
    "        \n",
    "    \n",
    "e = Employee()\n",
    "\n",
    "print(e.totalSalary)\n",
    "# print(e.totalSalary())         property nhi ho to () yeh waali sign aayegi\n",
    " \n",
    "e.totalSalary = 5800\n",
    "print(e.salary)\n",
    "print(e.salarybonus)\n",
    "\n",
    "\n",
    "\n"
   ]
  },
  {
   "cell_type": "code",
   "execution_count": null,
   "id": "aacf1f49",
   "metadata": {},
   "outputs": [],
   "source": []
  },
  {
   "cell_type": "code",
   "execution_count": null,
   "id": "7c758e71",
   "metadata": {},
   "outputs": [],
   "source": []
  },
  {
   "cell_type": "code",
   "execution_count": null,
   "id": "87e7c09e",
   "metadata": {},
   "outputs": [],
   "source": []
  },
  {
   "cell_type": "code",
   "execution_count": null,
   "id": "617cce77",
   "metadata": {},
   "outputs": [],
   "source": []
  },
  {
   "cell_type": "code",
   "execution_count": null,
   "id": "f97dcbfb",
   "metadata": {},
   "outputs": [],
   "source": []
  }
 ],
 "metadata": {
  "kernelspec": {
   "display_name": "Python 3 (ipykernel)",
   "language": "python",
   "name": "python3"
  },
  "language_info": {
   "codemirror_mode": {
    "name": "ipython",
    "version": 3
   },
   "file_extension": ".py",
   "mimetype": "text/x-python",
   "name": "python",
   "nbconvert_exporter": "python",
   "pygments_lexer": "ipython3",
   "version": "3.9.12"
  }
 },
 "nbformat": 4,
 "nbformat_minor": 5
}
